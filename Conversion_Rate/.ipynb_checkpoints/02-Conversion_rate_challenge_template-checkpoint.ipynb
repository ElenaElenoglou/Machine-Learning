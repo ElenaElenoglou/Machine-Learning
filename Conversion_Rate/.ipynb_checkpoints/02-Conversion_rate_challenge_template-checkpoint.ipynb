{
 "cells": [
  {
   "cell_type": "code",
   "execution_count": 2,
   "metadata": {},
   "outputs": [
    {
     "name": "stdout",
     "output_type": "stream",
     "text": [
      "Collecting plotly\n",
      "  Downloading plotly-5.0.0-py2.py3-none-any.whl (19.1 MB)\n",
      "\u001b[K     |████████████████████████████████| 19.1 MB 9.3 MB/s eta 0:00:01\n",
      "\u001b[?25hCollecting tenacity>=6.2.0\n",
      "  Downloading tenacity-7.0.0-py2.py3-none-any.whl (23 kB)\n",
      "Requirement already satisfied: six in /opt/conda/lib/python3.8/site-packages (from plotly) (1.15.0)\n",
      "Installing collected packages: tenacity, plotly\n",
      "Successfully installed plotly-5.0.0 tenacity-7.0.0\n"
     ]
    }
   ],
   "source": [
    "# Installing plotly\n",
    "! pip install plotly"
   ]
  },
  {
   "cell_type": "code",
   "execution_count": 55,
   "metadata": {
    "colab": {},
    "colab_type": "code",
    "id": "AGhdl7Bt2xZd"
   },
   "outputs": [],
   "source": [
    "# Importing libraries\n",
    "\n",
    "import pandas as pd\n",
    "import numpy as np\n",
    "\n",
    "from sklearn.model_selection import train_test_split\n",
    "from sklearn.pipeline import Pipeline\n",
    "from sklearn.impute import SimpleImputer\n",
    "from sklearn.preprocessing import StandardScaler\n",
    "from sklearn.compose import ColumnTransformer\n",
    "from sklearn.preprocessing import  OneHotEncoder\n",
    "from sklearn.linear_model import LogisticRegression\n",
    "from sklearn.metrics import f1_score, confusion_matrix\n",
    "\n",
    "import seaborn as sns\n",
    "import matplotlib.pyplot as plt\n",
    "import plotly.express as px\n",
    "import plotly.graph_objects as go\n",
    "import plotly.io as pio\n",
    "from plotly.subplots import make_subplots\n",
    "\n",
    "from sklearn.svm import SVC\n",
    "from sklearn.tree import DecisionTreeClassifier\n",
    "from sklearn.ensemble import RandomForestClassifier\n",
    "from sklearn.model_selection import GridSearchCV\n",
    "from sklearn.metrics import classification_report\n",
    "\n",
    "\n",
    "# setting Jedha color palette as default\n",
    "pio.templates[\"jedha\"] = go.layout.Template(\n",
    "    layout_colorway=[\"#4B9AC7\", \"#4BE8E0\", \"#9DD4F3\", \"#97FBF6\", \"#2A7FAF\", \"#23B1AB\", \"#0E3449\", \"#015955\"]\n",
    ")\n",
    "pio.templates.default = \"jedha\"\n",
    "from IPython.display import display"
   ]
  },
  {
   "cell_type": "code",
   "execution_count": 22,
   "metadata": {
    "colab": {
     "base_uri": "https://localhost:8080/",
     "height": 34
    },
    "colab_type": "code",
    "id": "W1AU8AH8u0qd",
    "outputId": "00698a97-027b-493b-a2e4-33fdcc295abb"
   },
   "outputs": [
    {
     "name": "stdout",
     "output_type": "stream",
     "text": [
      "Shape of our dataset : (284580, 6)\n"
     ]
    }
   ],
   "source": [
    "# Read file with labels\n",
    "data = pd.read_csv('conversion_data_train.csv')\n",
    "print('Shape of our dataset :', data.shape)"
   ]
  },
  {
   "cell_type": "code",
   "execution_count": 23,
   "metadata": {},
   "outputs": [
    {
     "data": {
      "text/html": [
       "<div>\n",
       "<style scoped>\n",
       "    .dataframe tbody tr th:only-of-type {\n",
       "        vertical-align: middle;\n",
       "    }\n",
       "\n",
       "    .dataframe tbody tr th {\n",
       "        vertical-align: top;\n",
       "    }\n",
       "\n",
       "    .dataframe thead th {\n",
       "        text-align: right;\n",
       "    }\n",
       "</style>\n",
       "<table border=\"1\" class=\"dataframe\">\n",
       "  <thead>\n",
       "    <tr style=\"text-align: right;\">\n",
       "      <th></th>\n",
       "      <th>country</th>\n",
       "      <th>age</th>\n",
       "      <th>new_user</th>\n",
       "      <th>source</th>\n",
       "      <th>total_pages_visited</th>\n",
       "      <th>converted</th>\n",
       "    </tr>\n",
       "  </thead>\n",
       "  <tbody>\n",
       "    <tr>\n",
       "      <th>0</th>\n",
       "      <td>China</td>\n",
       "      <td>22</td>\n",
       "      <td>1</td>\n",
       "      <td>Direct</td>\n",
       "      <td>2</td>\n",
       "      <td>0</td>\n",
       "    </tr>\n",
       "    <tr>\n",
       "      <th>1</th>\n",
       "      <td>UK</td>\n",
       "      <td>21</td>\n",
       "      <td>1</td>\n",
       "      <td>Ads</td>\n",
       "      <td>3</td>\n",
       "      <td>0</td>\n",
       "    </tr>\n",
       "    <tr>\n",
       "      <th>2</th>\n",
       "      <td>Germany</td>\n",
       "      <td>20</td>\n",
       "      <td>0</td>\n",
       "      <td>Seo</td>\n",
       "      <td>14</td>\n",
       "      <td>1</td>\n",
       "    </tr>\n",
       "    <tr>\n",
       "      <th>3</th>\n",
       "      <td>US</td>\n",
       "      <td>23</td>\n",
       "      <td>1</td>\n",
       "      <td>Seo</td>\n",
       "      <td>3</td>\n",
       "      <td>0</td>\n",
       "    </tr>\n",
       "    <tr>\n",
       "      <th>4</th>\n",
       "      <td>US</td>\n",
       "      <td>28</td>\n",
       "      <td>1</td>\n",
       "      <td>Direct</td>\n",
       "      <td>3</td>\n",
       "      <td>0</td>\n",
       "    </tr>\n",
       "  </tbody>\n",
       "</table>\n",
       "</div>"
      ],
      "text/plain": [
       "   country  age  new_user  source  total_pages_visited  converted\n",
       "0    China   22         1  Direct                    2          0\n",
       "1       UK   21         1     Ads                    3          0\n",
       "2  Germany   20         0     Seo                   14          1\n",
       "3       US   23         1     Seo                    3          0\n",
       "4       US   28         1  Direct                    3          0"
      ]
     },
     "execution_count": 23,
     "metadata": {},
     "output_type": "execute_result"
    }
   ],
   "source": [
    "# Returning 5 first rows\n",
    "data.head()"
   ]
  },
  {
   "cell_type": "code",
   "execution_count": 24,
   "metadata": {},
   "outputs": [
    {
     "data": {
      "text/html": [
       "<div>\n",
       "<style scoped>\n",
       "    .dataframe tbody tr th:only-of-type {\n",
       "        vertical-align: middle;\n",
       "    }\n",
       "\n",
       "    .dataframe tbody tr th {\n",
       "        vertical-align: top;\n",
       "    }\n",
       "\n",
       "    .dataframe thead th {\n",
       "        text-align: right;\n",
       "    }\n",
       "</style>\n",
       "<table border=\"1\" class=\"dataframe\">\n",
       "  <thead>\n",
       "    <tr style=\"text-align: right;\">\n",
       "      <th></th>\n",
       "      <th>country</th>\n",
       "      <th>age</th>\n",
       "      <th>new_user</th>\n",
       "      <th>source</th>\n",
       "      <th>total_pages_visited</th>\n",
       "      <th>converted</th>\n",
       "    </tr>\n",
       "  </thead>\n",
       "  <tbody>\n",
       "    <tr>\n",
       "      <th>count</th>\n",
       "      <td>284580</td>\n",
       "      <td>284580.000000</td>\n",
       "      <td>284580.000000</td>\n",
       "      <td>284580</td>\n",
       "      <td>284580.000000</td>\n",
       "      <td>284580.000000</td>\n",
       "    </tr>\n",
       "    <tr>\n",
       "      <th>unique</th>\n",
       "      <td>4</td>\n",
       "      <td>NaN</td>\n",
       "      <td>NaN</td>\n",
       "      <td>3</td>\n",
       "      <td>NaN</td>\n",
       "      <td>NaN</td>\n",
       "    </tr>\n",
       "    <tr>\n",
       "      <th>top</th>\n",
       "      <td>US</td>\n",
       "      <td>NaN</td>\n",
       "      <td>NaN</td>\n",
       "      <td>Seo</td>\n",
       "      <td>NaN</td>\n",
       "      <td>NaN</td>\n",
       "    </tr>\n",
       "    <tr>\n",
       "      <th>freq</th>\n",
       "      <td>160124</td>\n",
       "      <td>NaN</td>\n",
       "      <td>NaN</td>\n",
       "      <td>139477</td>\n",
       "      <td>NaN</td>\n",
       "      <td>NaN</td>\n",
       "    </tr>\n",
       "    <tr>\n",
       "      <th>mean</th>\n",
       "      <td>NaN</td>\n",
       "      <td>30.564203</td>\n",
       "      <td>0.685452</td>\n",
       "      <td>NaN</td>\n",
       "      <td>4.873252</td>\n",
       "      <td>0.032258</td>\n",
       "    </tr>\n",
       "    <tr>\n",
       "      <th>std</th>\n",
       "      <td>NaN</td>\n",
       "      <td>8.266789</td>\n",
       "      <td>0.464336</td>\n",
       "      <td>NaN</td>\n",
       "      <td>3.341995</td>\n",
       "      <td>0.176685</td>\n",
       "    </tr>\n",
       "    <tr>\n",
       "      <th>min</th>\n",
       "      <td>NaN</td>\n",
       "      <td>17.000000</td>\n",
       "      <td>0.000000</td>\n",
       "      <td>NaN</td>\n",
       "      <td>1.000000</td>\n",
       "      <td>0.000000</td>\n",
       "    </tr>\n",
       "    <tr>\n",
       "      <th>25%</th>\n",
       "      <td>NaN</td>\n",
       "      <td>24.000000</td>\n",
       "      <td>0.000000</td>\n",
       "      <td>NaN</td>\n",
       "      <td>2.000000</td>\n",
       "      <td>0.000000</td>\n",
       "    </tr>\n",
       "    <tr>\n",
       "      <th>50%</th>\n",
       "      <td>NaN</td>\n",
       "      <td>30.000000</td>\n",
       "      <td>1.000000</td>\n",
       "      <td>NaN</td>\n",
       "      <td>4.000000</td>\n",
       "      <td>0.000000</td>\n",
       "    </tr>\n",
       "    <tr>\n",
       "      <th>75%</th>\n",
       "      <td>NaN</td>\n",
       "      <td>36.000000</td>\n",
       "      <td>1.000000</td>\n",
       "      <td>NaN</td>\n",
       "      <td>7.000000</td>\n",
       "      <td>0.000000</td>\n",
       "    </tr>\n",
       "    <tr>\n",
       "      <th>max</th>\n",
       "      <td>NaN</td>\n",
       "      <td>123.000000</td>\n",
       "      <td>1.000000</td>\n",
       "      <td>NaN</td>\n",
       "      <td>29.000000</td>\n",
       "      <td>1.000000</td>\n",
       "    </tr>\n",
       "  </tbody>\n",
       "</table>\n",
       "</div>"
      ],
      "text/plain": [
       "       country            age       new_user  source  total_pages_visited  \\\n",
       "count   284580  284580.000000  284580.000000  284580        284580.000000   \n",
       "unique       4            NaN            NaN       3                  NaN   \n",
       "top         US            NaN            NaN     Seo                  NaN   \n",
       "freq    160124            NaN            NaN  139477                  NaN   \n",
       "mean       NaN      30.564203       0.685452     NaN             4.873252   \n",
       "std        NaN       8.266789       0.464336     NaN             3.341995   \n",
       "min        NaN      17.000000       0.000000     NaN             1.000000   \n",
       "25%        NaN      24.000000       0.000000     NaN             2.000000   \n",
       "50%        NaN      30.000000       1.000000     NaN             4.000000   \n",
       "75%        NaN      36.000000       1.000000     NaN             7.000000   \n",
       "max        NaN     123.000000       1.000000     NaN            29.000000   \n",
       "\n",
       "            converted  \n",
       "count   284580.000000  \n",
       "unique            NaN  \n",
       "top               NaN  \n",
       "freq              NaN  \n",
       "mean         0.032258  \n",
       "std          0.176685  \n",
       "min          0.000000  \n",
       "25%          0.000000  \n",
       "50%          0.000000  \n",
       "75%          0.000000  \n",
       "max          1.000000  "
      ]
     },
     "execution_count": 24,
     "metadata": {},
     "output_type": "execute_result"
    }
   ],
   "source": [
    "# Returning important statistics\n",
    "data.describe(include='all')"
   ]
  },
  {
   "cell_type": "markdown",
   "metadata": {
    "colab_type": "text",
    "id": "0XwjKBc63B1n"
   },
   "source": [
    "# Explore dataset"
   ]
  },
  {
   "cell_type": "code",
   "execution_count": 26,
   "metadata": {},
   "outputs": [
    {
     "name": "stdout",
     "output_type": "stream",
     "text": [
      "<class 'pandas.core.frame.DataFrame'>\n",
      "Int64Index: 100000 entries, 99908 to 236776\n",
      "Data columns (total 6 columns):\n",
      " #   Column               Non-Null Count   Dtype \n",
      "---  ------               --------------   ----- \n",
      " 0   country              100000 non-null  object\n",
      " 1   age                  100000 non-null  int64 \n",
      " 2   new_user             100000 non-null  int64 \n",
      " 3   source               100000 non-null  object\n",
      " 4   total_pages_visited  100000 non-null  int64 \n",
      " 5   converted            100000 non-null  int64 \n",
      "dtypes: int64(4), object(2)\n",
      "memory usage: 5.3+ MB\n"
     ]
    }
   ],
   "source": [
    "# Returning important information for the dataset\n",
    "data_sample.info()"
   ]
  },
  {
   "cell_type": "code",
   "execution_count": 29,
   "metadata": {},
   "outputs": [
    {
     "data": {
      "text/html": [
       "<iframe\n",
       "    scrolling=\"no\"\n",
       "    width=\"100%\"\n",
       "    height=\"545px\"\n",
       "    src=\"iframe_figures/figure_29.html\"\n",
       "    frameborder=\"0\"\n",
       "    allowfullscreen\n",
       "></iframe>\n"
      ]
     },
     "metadata": {},
     "output_type": "display_data"
    }
   ],
   "source": [
    "# Ploting the distribution of numerical features\n",
    "\n",
    "fig = make_subplots(rows = 2, cols = 1, subplot_titles = ('Age', 'Total page visited'))\n",
    "fig.add_trace(\n",
    "        go.Histogram(\n",
    "        x = data_sample['age'], nbinsx = 35),\n",
    "    row = 1,\n",
    "    col = 1)\n",
    "\n",
    "fig.update_layout(title = go.layout.Title(text = 'Distribution of quantative variables'), showlegend = False)\n",
    "\n",
    "fig.add_trace(\n",
    "    go.Histogram(\n",
    "        x = data_sample['total_pages_visited'], nbinsx = 32),\n",
    "    row = 2,\n",
    "    col = 1)\n",
    "\n",
    "fig.show(renderer='iframe')"
   ]
  },
  {
   "cell_type": "markdown",
   "metadata": {},
   "source": [
    "**The histograms for quantative features show that the total pages visited is positive skew (right-skewed distribution) and the age presents a behaviour of symmetrical distribution.**\n",
    "\n",
    "**We will behave to new user feature as categorical since it has just two values (0 and 1).**"
   ]
  },
  {
   "cell_type": "code",
   "execution_count": 30,
   "metadata": {},
   "outputs": [
    {
     "data": {
      "text/html": [
       "<iframe\n",
       "    scrolling=\"no\"\n",
       "    width=\"100%\"\n",
       "    height=\"545px\"\n",
       "    src=\"iframe_figures/figure_30.html\"\n",
       "    frameborder=\"0\"\n",
       "    allowfullscreen\n",
       "></iframe>\n"
      ]
     },
     "metadata": {},
     "output_type": "display_data"
    }
   ],
   "source": [
    "# Ploting the distribution of categorical features\n",
    "\n",
    "s1 = data_sample['country'].value_counts().to_dict()\n",
    "s2 = data_sample['new_user'].value_counts().to_dict()\n",
    "s3 = data_sample['source'].value_counts().to_dict()\n",
    "s4 = data_sample['converted'].value_counts().to_dict()\n",
    "\n",
    "\n",
    "fig = make_subplots(rows = 4, cols = 1, subplot_titles = ('Country', 'New User', 'Source', 'Converted'))\n",
    "\n",
    "#Subplot 1\n",
    "fig.add_trace(\n",
    "        go.Bar(x = tuple(s1.keys()),\n",
    "              y = tuple(s1.values())),\n",
    "    row = 1,\n",
    "    col = 1)\n",
    "\n",
    "#Subplot 2\n",
    "fig.add_trace(\n",
    "         go.Bar(x = tuple(s2.keys()),\n",
    "              y = tuple(s2.values())),\n",
    "    row = 2,\n",
    "    col = 1)\n",
    "\n",
    "# Subplot 3\n",
    "fig.add_trace(\n",
    "          go.Bar(x = tuple(s3.keys()),\n",
    "              y = tuple(s3.values())),\n",
    "    row = 3,\n",
    "    col = 1)\n",
    "\n",
    "# Subplot 4\n",
    "fig.add_trace(\n",
    "          go.Bar(x = tuple(s4.keys()),\n",
    "              y = tuple(s4.values())),\n",
    "    row = 4,\n",
    "    col = 1)\n",
    "\n",
    "fig.update_layout(title = go.layout.Title(text = 'Barplot of qualitative variables'), showlegend = False)\n",
    "fig.show(renderer='iframe')"
   ]
  },
  {
   "cell_type": "markdown",
   "metadata": {},
   "source": [
    "**On the last plot we notice that we have much more 0 than 1 at the converted features, meaning that our dataset is imbalanced.\n",
    "For imbalanced classification problems, the accuracy is known to be a very poor metric. That's why we will use the f1-score instead.**"
   ]
  },
  {
   "cell_type": "code",
   "execution_count": 38,
   "metadata": {},
   "outputs": [
    {
     "data": {
      "text/html": [
       "<iframe\n",
       "    scrolling=\"no\"\n",
       "    width=\"100%\"\n",
       "    height=\"545px\"\n",
       "    src=\"iframe_figures/figure_38.html\"\n",
       "    frameborder=\"0\"\n",
       "    allowfullscreen\n",
       "></iframe>\n"
      ]
     },
     "metadata": {},
     "output_type": "display_data"
    }
   ],
   "source": [
    "# Plotting categorical features with converted feature\n",
    "data_sample = data.sample(10000) # sample of the dataset\n",
    "\n",
    "fig = make_subplots(rows=3, cols=1)\n",
    "\n",
    "# Subplot 1\n",
    "fig.add_trace(\n",
    "    go.Bar(\n",
    "        name='Country',\n",
    "        x=data_sample['country'],\n",
    "        y=data_sample['converted'],\n",
    "    ),\n",
    "    row=1,\n",
    "    col=1,\n",
    ")\n",
    "\n",
    "# Subplot 2\n",
    "fig.add_trace(\n",
    "    go.Bar(\n",
    "        name='new user',\n",
    "        x=data_sample['new_user'],\n",
    "        y=data_sample['converted'],\n",
    "    ),\n",
    "    row=2,\n",
    "    col=1,\n",
    ")\n",
    "\n",
    "# Subplot 3\n",
    "fig.add_trace(\n",
    "    go.Bar(\n",
    "        name='Source',\n",
    "        x=data_sample['source'],\n",
    "        y=data_sample['converted'],\n",
    "    ),\n",
    "    row=3,\n",
    "    col=1,\n",
    ")\n",
    "fig.show(renderer='iframe')"
   ]
  },
  {
   "cell_type": "markdown",
   "metadata": {},
   "source": [
    "**The barplots for categorical features show that these features might be as well important for the prediction. Indeed, the conversion rate varies a bit according to the country, source and whether the user is new or not.**"
   ]
  },
  {
   "cell_type": "code",
   "execution_count": 57,
   "metadata": {},
   "outputs": [
    {
     "data": {
      "text/plain": [
       "<AxesSubplot:>"
      ]
     },
     "execution_count": 57,
     "metadata": {},
     "output_type": "execute_result"
    },
    {
     "data": {
      "image/png": "[encoded data removed]",
      "text/plain": [
       "<Figure size 720x504 with 2 Axes>"
      ]
     },
     "metadata": {},
     "output_type": "display_data"
    }
   ],
   "source": [
    "# Plotting the Correlation matrix\n",
    "fig, ax = plt.subplots(figsize=(10,7))\n",
    "sns.heatmap(data.corr(), annot = True, ax=ax)"
   ]
  },
  {
   "cell_type": "markdown",
   "metadata": {},
   "source": [
    "**From the bivariate analysis and the correlation heatmap above, we can notice that the most important feature for the prediction is total_pages_visited. The age might also play a role, but this is less obvious here because it's less correlated to the target.**"
   ]
  },
  {
   "cell_type": "markdown",
   "metadata": {
    "colab_type": "text",
    "id": "70MwsoCS3QD5"
   },
   "source": [
    "# Feature Selection"
   ]
  },
  {
   "cell_type": "code",
   "execution_count": 39,
   "metadata": {
    "colab": {},
    "colab_type": "code",
    "id": "sjEHMGoY3kMB"
   },
   "outputs": [],
   "source": [
    "# Choosing variable to use in the model\n",
    "\n",
    "features_list = ['country', 'age', 'new_user', 'source', 'total_pages_visited']\n",
    "numeric_indices = [0,1,2,3,4]\n",
    "categorical_indices = []\n",
    "target_variable = 'converted'"
   ]
  },
  {
   "cell_type": "code",
   "execution_count": 40,
   "metadata": {
    "colab": {
     "base_uri": "https://localhost:8080/",
     "height": 50
    },
    "colab_type": "code",
    "id": "SV5E9KMs4xcq",
    "outputId": "9d1ed76e-e82e-45e7-f3e5-6d47962caa5a"
   },
   "outputs": [
    {
     "name": "stdout",
     "output_type": "stream",
     "text": [
      "Explanatory variables :  Index(['country', 'age', 'new_user', 'source', 'total_pages_visited'], dtype='object')\n",
      "\n"
     ]
    }
   ],
   "source": [
    "# Seperating features dataset and target\n",
    "\n",
    "X = data.loc[:, features_list]\n",
    "Y = data.loc[:, target_variable]\n",
    "\n",
    "print('Explanatory variables : ', X.columns)\n",
    "print()"
   ]
  },
  {
   "cell_type": "code",
   "execution_count": 43,
   "metadata": {
    "colab": {
     "base_uri": "https://localhost:8080/",
     "height": 67
    },
    "colab_type": "code",
    "id": "W8K5DQEvvQgl",
    "outputId": "d280ebc9-4d4b-4723-b9fe-32513f898abc"
   },
   "outputs": [
    {
     "data": {
      "text/html": [
       "<div>\n",
       "<style scoped>\n",
       "    .dataframe tbody tr th:only-of-type {\n",
       "        vertical-align: middle;\n",
       "    }\n",
       "\n",
       "    .dataframe tbody tr th {\n",
       "        vertical-align: top;\n",
       "    }\n",
       "\n",
       "    .dataframe thead th {\n",
       "        text-align: right;\n",
       "    }\n",
       "</style>\n",
       "<table border=\"1\" class=\"dataframe\">\n",
       "  <thead>\n",
       "    <tr style=\"text-align: right;\">\n",
       "      <th></th>\n",
       "      <th>country</th>\n",
       "      <th>age</th>\n",
       "      <th>new_user</th>\n",
       "      <th>source</th>\n",
       "      <th>total_pages_visited</th>\n",
       "    </tr>\n",
       "  </thead>\n",
       "  <tbody>\n",
       "    <tr>\n",
       "      <th>95029</th>\n",
       "      <td>US</td>\n",
       "      <td>46</td>\n",
       "      <td>0</td>\n",
       "      <td>Direct</td>\n",
       "      <td>4</td>\n",
       "    </tr>\n",
       "    <tr>\n",
       "      <th>146594</th>\n",
       "      <td>US</td>\n",
       "      <td>30</td>\n",
       "      <td>1</td>\n",
       "      <td>Seo</td>\n",
       "      <td>7</td>\n",
       "    </tr>\n",
       "    <tr>\n",
       "      <th>86116</th>\n",
       "      <td>China</td>\n",
       "      <td>34</td>\n",
       "      <td>1</td>\n",
       "      <td>Ads</td>\n",
       "      <td>1</td>\n",
       "    </tr>\n",
       "    <tr>\n",
       "      <th>35148</th>\n",
       "      <td>US</td>\n",
       "      <td>25</td>\n",
       "      <td>1</td>\n",
       "      <td>Ads</td>\n",
       "      <td>6</td>\n",
       "    </tr>\n",
       "    <tr>\n",
       "      <th>229878</th>\n",
       "      <td>US</td>\n",
       "      <td>36</td>\n",
       "      <td>1</td>\n",
       "      <td>Ads</td>\n",
       "      <td>1</td>\n",
       "    </tr>\n",
       "  </tbody>\n",
       "</table>\n",
       "</div>"
      ],
      "text/plain": [
       "       country  age  new_user  source  total_pages_visited\n",
       "95029       US   46         0  Direct                    4\n",
       "146594      US   30         1     Seo                    7\n",
       "86116    China   34         1     Ads                    1\n",
       "35148       US   25         1     Ads                    6\n",
       "229878      US   36         1     Ads                    1"
      ]
     },
     "execution_count": 43,
     "metadata": {},
     "output_type": "execute_result"
    }
   ],
   "source": [
    "# Divide dataset Train set & Test set \n",
    "X_train, X_test, Y_train, Y_test = train_test_split(X, Y, test_size=0.3, random_state=0, stratify = Y)\n",
    "X_train.head()"
   ]
  },
  {
   "cell_type": "markdown",
   "metadata": {
    "colab_type": "text",
    "id": "7b_aU7ij7K3Q"
   },
   "source": [
    "## Training and Test pipelines"
   ]
  },
  {
   "cell_type": "markdown",
   "metadata": {},
   "source": [
    "Encoding categorical features and standardizing numerical features\n"
   ]
  },
  {
   "cell_type": "code",
   "execution_count": 47,
   "metadata": {},
   "outputs": [],
   "source": [
    "# Create pipeline for numeric features\n",
    "\n",
    "numeric_features = [1,2,4] # Positions of numeric columns in X_train/X_test\n",
    "numeric_transformer = Pipeline(steps=[\n",
    "    ('scaler', StandardScaler())])\n",
    "\n",
    "\n",
    "\n",
    "# Create pipeline for categorical features\n",
    "\n",
    "categorical_features = [0, 3] # Positions of categorical columns in X_train/X_test\n",
    "categorical_transformer = Pipeline(steps=[\n",
    "    ('encoder', OneHotEncoder(drop='first'))]) # first column will be dropped to avoid creating correlations between features\n",
    "\n",
    "# Use ColumnTranformer to make a preprocessor object that describes all the treatments to be done\n",
    "preprocessor = ColumnTransformer(\n",
    "    transformers=[\n",
    "        ('num', numeric_transformer, numeric_features),\n",
    "        ('cat', categorical_transformer, categorical_features)\n",
    "    ])\n",
    "# Preprocessings on train set\n",
    "X_train = preprocessor.fit_transform(X_train)\n",
    "\n",
    "# Preprocessings on test set\n",
    "X_test = preprocessor.transform(X_test)"
   ]
  },
  {
   "cell_type": "markdown",
   "metadata": {},
   "source": [
    "# Model"
   ]
  },
  {
   "cell_type": "code",
   "execution_count": 49,
   "metadata": {},
   "outputs": [],
   "source": [
    "# Creating baseline models\n",
    "logistic_regression = LogisticRegression() \n",
    "svm = SVC( class_weight = 'balanced')\n",
    "decision_tree =  DecisionTreeClassifier() \n",
    "random_forest = RandomForestClassifier() "
   ]
  },
  {
   "cell_type": "code",
   "execution_count": 50,
   "metadata": {},
   "outputs": [
    {
     "data": {
      "text/plain": [
       "RandomForestClassifier()"
      ]
     },
     "execution_count": 50,
     "metadata": {},
     "output_type": "execute_result"
    }
   ],
   "source": [
    "#Train Models\n",
    "logistic_regression.fit(X_train, Y_train)\n",
    "svm.fit(X_train, Y_train)\n",
    "decision_tree.fit(X_train, Y_train)\n",
    "random_forest.fit(X_train, Y_train)"
   ]
  },
  {
   "cell_type": "code",
   "execution_count": 51,
   "metadata": {},
   "outputs": [
    {
     "name": "stdout",
     "output_type": "stream",
     "text": [
      "Predictions on training set...\n",
      "logistic regression : [0 0 0 0 0 0 0 0 0 0]\n",
      "SVM : [0 0 0 0 0 1 0 0 0 0]\n",
      "decission tree : [0 0 0 0 0 0 0 0 0 0]\n",
      "random forest : [0 0 0 0 0 0 0 0 0 0]\n"
     ]
    }
   ],
   "source": [
    "# Predictions on training set\n",
    "print(\"Predictions on training set...\")\n",
    "\n",
    "Y_train_pred_lg = logistic_regression.predict(X_train)\n",
    "Y_train_pred_svm = svm.predict(X_train)\n",
    "Y_train_pred_dt= decision_tree.predict(X_train)\n",
    "Y_train_pred_rf = random_forest.predict(X_train)\n",
    "\n",
    "print(\"logistic regression : {}\".format(Y_train_pred_lg[0:10]))\n",
    "print(\"SVM : {}\".format(Y_train_pred_svm[0:10]))\n",
    "print(\"decission tree : {}\".format(Y_train_pred_dt[0:10]))\n",
    "print(\"random forest : {}\".format(Y_train_pred_rf[0:10]))\n"
   ]
  },
  {
   "cell_type": "code",
   "execution_count": 53,
   "metadata": {
    "colab": {
     "base_uri": "https://localhost:8080/",
     "height": 84
    },
    "colab_type": "code",
    "id": "QS1XrzzE_jQI",
    "outputId": "866a96d2-4180-4bd1-ce54-ba052e75d485",
    "scrolled": true
   },
   "outputs": [
    {
     "name": "stdout",
     "output_type": "stream",
     "text": [
      "Predictions on test set...\n",
      "logistic regression : [0 0 0 0 0 0 0 0 0 0 0 0 0 0 0]\n",
      "SVM : [0 1 0 0 0 0 0 0 0 0 0 1 0 0 0]\n",
      "decission tree : [0 0 0 0 0 0 0 0 0 0 0 0 0 0 0]\n",
      "random forest : [0 0 0 0 0 0 0 0 0 0 0 0 0 0 0]\n"
     ]
    }
   ],
   "source": [
    "# Predictions on test set\n",
    "print(\"Predictions on test set...\")\n",
    "\n",
    "Y_test_pred_lg = logistic_regression.predict(X_test)\n",
    "Y_test_pred_svm = svm.predict(X_test)\n",
    "Y_test_pred_dt= decision_tree.predict(X_test)\n",
    "Y_test_pred_rf = random_forest.predict(X_test)\n",
    "\n",
    "print(\"logistic regression : {}\".format(Y_test_pred_lg[0:15]))\n",
    "print(\"SVM : {}\".format(Y_test_pred_svm[0:15]))\n",
    "print(\"decission tree : {}\".format(Y_test_pred_dt[0:15]))\n",
    "print(\"random forest : {}\".format(Y_test_pred_rf[0:15]))"
   ]
  },
  {
   "cell_type": "markdown",
   "metadata": {
    "colab_type": "text",
    "id": "zxJCTlz0_2it"
   },
   "source": [
    "## Performance assessment"
   ]
  },
  {
   "cell_type": "code",
   "execution_count": 54,
   "metadata": {
    "colab": {
     "base_uri": "https://localhost:8080/",
     "height": 50
    },
    "colab_type": "code",
    "id": "6x7p1nyr_3UV",
    "outputId": "8e5b91ba-ca06-4486-d808-37a6aaaa8cf7"
   },
   "outputs": [
    {
     "name": "stdout",
     "output_type": "stream",
     "text": [
      "logistic regression\n",
      "f1-score on train set :  0.7661151327128577\n",
      "f1-score on test set :  0.7587314331593739\n",
      "\n",
      "SVM\n",
      "f1-score on train set :  0.5126157505734432\n",
      "f1-score on test set :  0.514404927478641\n",
      "\n",
      "Decission Tree\n",
      "f1-score on train set :  0.8047120418848168\n",
      "f1-score on test set :  0.7181467181467182\n",
      "\n",
      "random forest\n",
      "f1-score on train set :  0.8094670526136557\n",
      "f1-score on test set :  0.736135780540754\n"
     ]
    }
   ],
   "source": [
    "# The f1-score will be used to assess the performances on the leaderboard\n",
    "print('logistic regression')\n",
    "print(\"f1-score on train set : \", f1_score(Y_train, Y_train_pred_lg))\n",
    "print(\"f1-score on test set : \", f1_score(Y_test, Y_test_pred_lg))\n",
    "print()\n",
    "print('SVM')\n",
    "print(\"f1-score on train set : \", f1_score(Y_train, Y_train_pred_svm))\n",
    "print(\"f1-score on test set : \", f1_score(Y_test, Y_test_pred_svm))\n",
    "print()\n",
    "print('Decission Tree')\n",
    "print(\"f1-score on train set : \", f1_score(Y_train, Y_train_pred_dt))\n",
    "print(\"f1-score on test set : \", f1_score(Y_test, Y_test_pred_dt))\n",
    "print()\n",
    "print('random forest')\n",
    "print(\"f1-score on train set : \", f1_score(Y_train, Y_train_pred_rf))\n",
    "print(\"f1-score on test set : \", f1_score(Y_test, Y_test_pred_rf))"
   ]
  },
  {
   "cell_type": "markdown",
   "metadata": {},
   "source": [
    "**The best f1-scores are the ones of Decision Tree and Random Forest, so we will continue only with these two models, althought we notice an overfitting.**"
   ]
  },
  {
   "cell_type": "markdown",
   "metadata": {},
   "source": [
    "## Grid Search CV"
   ]
  },
  {
   "cell_type": "markdown",
   "metadata": {},
   "source": [
    "#### Try to find Hypertuning parameters for Decission Tree"
   ]
  },
  {
   "cell_type": "code",
   "execution_count": 62,
   "metadata": {},
   "outputs": [
    {
     "data": {
      "text/plain": [
       "GridSearchCV(cv=3, estimator=DecisionTreeClassifier(),\n",
       "             param_grid={'criterion': ['gini', 'entropy'],\n",
       "                         'max_depth': array([1, 2, 3, 4, 5, 6, 7, 8, 9]),\n",
       "                         'max_features': ['auto', 'sqrt', 'log2', None],\n",
       "                         'min_samples_leaf': (1, 2, 3),\n",
       "                         'min_samples_split': [100, 150, 300]})"
      ]
     },
     "execution_count": 62,
     "metadata": {},
     "output_type": "execute_result"
    }
   ],
   "source": [
    "params = {'criterion': ['gini', 'entropy'],\n",
    "              'max_depth': np.arange(1, 10),\n",
    "               'min_samples_split': [100, 150, 300],\n",
    "               'max_features': ['auto', 'sqrt','log2', None],\n",
    "               'min_samples_leaf': (1, 2, 3)          \n",
    "             }\n",
    "\n",
    "gridsearch_dt = GridSearchCV(param_grid = params, cv = 3, estimator = DecisionTreeClassifier())\n",
    "gridsearch_dt.fit(X_train, Y_train)"
   ]
  },
  {
   "cell_type": "code",
   "execution_count": 64,
   "metadata": {},
   "outputs": [
    {
     "data": {
      "text/plain": [
       "{'criterion': 'gini',\n",
       " 'max_depth': 9,\n",
       " 'max_features': None,\n",
       " 'min_samples_leaf': 1,\n",
       " 'min_samples_split': 100}"
      ]
     },
     "execution_count": 64,
     "metadata": {},
     "output_type": "execute_result"
    }
   ],
   "source": [
    "# best parameters\n",
    "gridsearch_dt.best_params_"
   ]
  },
  {
   "cell_type": "code",
   "execution_count": 65,
   "metadata": {},
   "outputs": [],
   "source": [
    "# Apply best parameters to train test\n",
    "grid_pred_dt_train = gridsearch_dt.best_estimator_.predict(X_train)"
   ]
  },
  {
   "cell_type": "code",
   "execution_count": 66,
   "metadata": {},
   "outputs": [],
   "source": [
    "#\n",
    "grid_pred_dt_test = gridsearch_dt.best_estimator_.predict(X_test)"
   ]
  },
  {
   "cell_type": "code",
   "execution_count": 67,
   "metadata": {},
   "outputs": [
    {
     "data": {
      "text/plain": [
       "0.7618966107497432"
      ]
     },
     "execution_count": 67,
     "metadata": {},
     "output_type": "execute_result"
    }
   ],
   "source": [
    "f1_score(grid_pred_dt_train, Y_train)"
   ]
  },
  {
   "cell_type": "code",
   "execution_count": 69,
   "metadata": {},
   "outputs": [
    {
     "data": {
      "text/plain": [
       "0.7397643299380866"
      ]
     },
     "execution_count": 69,
     "metadata": {},
     "output_type": "execute_result"
    }
   ],
   "source": [
    "f1_score(grid_pred_dt_test, Y_test)"
   ]
  },
  {
   "cell_type": "code",
   "execution_count": 70,
   "metadata": {
    "scrolled": true
   },
   "outputs": [
    {
     "name": "stdout",
     "output_type": "stream",
     "text": [
      "              precision    recall  f1-score   support\n",
      "\n",
      "           0       0.99      1.00      0.99     82620\n",
      "           1       0.82      0.67      0.74      2754\n",
      "\n",
      "    accuracy                           0.98     85374\n",
      "   macro avg       0.91      0.83      0.87     85374\n",
      "weighted avg       0.98      0.98      0.98     85374\n",
      "\n"
     ]
    }
   ],
   "source": [
    "print(classification_report(Y_test,gridsearch_dt.best_estimator_.predict(X_test)))"
   ]
  },
  {
   "cell_type": "markdown",
   "metadata": {},
   "source": [
    "#### Hypertuning parameters for Random Forest"
   ]
  },
  {
   "cell_type": "markdown",
   "metadata": {},
   "source": [
    "**We will run a grid search cross validation process in order to determine the best set of parameters for this model.**"
   ]
  },
  {
   "cell_type": "code",
   "execution_count": 71,
   "metadata": {},
   "outputs": [
    {
     "name": "stdout",
     "output_type": "stream",
     "text": [
      "Fitting 5 folds for each of 72 candidates, totalling 360 fits\n",
      "[CV] bootstrap=True, max_depth=30, max_features=auto, min_samples_leaf=30, n_estimators=100 \n"
     ]
    },
    {
     "name": "stderr",
     "output_type": "stream",
     "text": [
      "[Parallel(n_jobs=1)]: Using backend SequentialBackend with 1 concurrent workers.\n"
     ]
    },
    {
     "name": "stdout",
     "output_type": "stream",
     "text": [
      "[CV]  bootstrap=True, max_depth=30, max_features=auto, min_samples_leaf=30, n_estimators=100, total=  14.2s\n",
      "[CV] bootstrap=True, max_depth=30, max_features=auto, min_samples_leaf=30, n_estimators=100 \n"
     ]
    },
    {
     "name": "stderr",
     "output_type": "stream",
     "text": [
      "[Parallel(n_jobs=1)]: Done   1 out of   1 | elapsed:   14.1s remaining:    0.0s\n"
     ]
    },
    {
     "name": "stdout",
     "output_type": "stream",
     "text": [
      "[CV]  bootstrap=True, max_depth=30, max_features=auto, min_samples_leaf=30, n_estimators=100, total=  12.7s\n",
      "[CV] bootstrap=True, max_depth=30, max_features=auto, min_samples_leaf=30, n_estimators=100 \n",
      "[CV]  bootstrap=True, max_depth=30, max_features=auto, min_samples_leaf=30, n_estimators=100, total=  12.9s\n",
      "[CV] bootstrap=True, max_depth=30, max_features=auto, min_samples_leaf=30, n_estimators=100 \n",
      "[CV]  bootstrap=True, max_depth=30, max_features=auto, min_samples_leaf=30, n_estimators=100, total=  12.2s\n",
      "[CV] bootstrap=True, max_depth=30, max_features=auto, min_samples_leaf=30, n_estimators=100 \n",
      "[CV]  bootstrap=True, max_depth=30, max_features=auto, min_samples_leaf=30, n_estimators=100, total=  12.6s\n",
      "[CV] bootstrap=True, max_depth=30, max_features=auto, min_samples_leaf=30, n_estimators=120 \n",
      "[CV]  bootstrap=True, max_depth=30, max_features=auto, min_samples_leaf=30, n_estimators=120, total=  16.5s\n",
      "[CV] bootstrap=True, max_depth=30, max_features=auto, min_samples_leaf=30, n_estimators=120 \n",
      "[CV]  bootstrap=True, max_depth=30, max_features=auto, min_samples_leaf=30, n_estimators=120, total=  16.8s\n",
      "[CV] bootstrap=True, max_depth=30, max_features=auto, min_samples_leaf=30, n_estimators=120 \n",
      "[CV]  bootstrap=True, max_depth=30, max_features=auto, min_samples_leaf=30, n_estimators=120, total=  17.4s\n",
      "[CV] bootstrap=True, max_depth=30, max_features=auto, min_samples_leaf=30, n_estimators=120 \n",
      "[CV]  bootstrap=True, max_depth=30, max_features=auto, min_samples_leaf=30, n_estimators=120, total=  15.8s\n",
      "[CV] bootstrap=True, max_depth=30, max_features=auto, min_samples_leaf=30, n_estimators=120 \n",
      "[CV]  bootstrap=True, max_depth=30, max_features=auto, min_samples_leaf=30, n_estimators=120, total=  22.4s\n",
      "[CV] bootstrap=True, max_depth=30, max_features=auto, min_samples_leaf=40, n_estimators=100 \n",
      "[CV]  bootstrap=True, max_depth=30, max_features=auto, min_samples_leaf=40, n_estimators=100, total=  14.9s\n",
      "[CV] bootstrap=True, max_depth=30, max_features=auto, min_samples_leaf=40, n_estimators=100 \n",
      "[CV]  bootstrap=True, max_depth=30, max_features=auto, min_samples_leaf=40, n_estimators=100, total=  16.9s\n",
      "[CV] bootstrap=True, max_depth=30, max_features=auto, min_samples_leaf=40, n_estimators=100 \n",
      "[CV]  bootstrap=True, max_depth=30, max_features=auto, min_samples_leaf=40, n_estimators=100, total=  13.2s\n",
      "[CV] bootstrap=True, max_depth=30, max_features=auto, min_samples_leaf=40, n_estimators=100 \n",
      "[CV]  bootstrap=True, max_depth=30, max_features=auto, min_samples_leaf=40, n_estimators=100, total=  14.6s\n",
      "[CV] bootstrap=True, max_depth=30, max_features=auto, min_samples_leaf=40, n_estimators=100 \n",
      "[CV]  bootstrap=True, max_depth=30, max_features=auto, min_samples_leaf=40, n_estimators=100, total=  13.7s\n",
      "[CV] bootstrap=True, max_depth=30, max_features=auto, min_samples_leaf=40, n_estimators=120 \n",
      "[CV]  bootstrap=True, max_depth=30, max_features=auto, min_samples_leaf=40, n_estimators=120, total=  17.2s\n",
      "[CV] bootstrap=True, max_depth=30, max_features=auto, min_samples_leaf=40, n_estimators=120 \n",
      "[CV]  bootstrap=True, max_depth=30, max_features=auto, min_samples_leaf=40, n_estimators=120, total=  14.9s\n",
      "[CV] bootstrap=True, max_depth=30, max_features=auto, min_samples_leaf=40, n_estimators=120 \n",
      "[CV]  bootstrap=True, max_depth=30, max_features=auto, min_samples_leaf=40, n_estimators=120, total=  23.3s\n",
      "[CV] bootstrap=True, max_depth=30, max_features=auto, min_samples_leaf=40, n_estimators=120 \n",
      "[CV]  bootstrap=True, max_depth=30, max_features=auto, min_samples_leaf=40, n_estimators=120, total=  24.2s\n",
      "[CV] bootstrap=True, max_depth=30, max_features=auto, min_samples_leaf=40, n_estimators=120 \n",
      "[CV]  bootstrap=True, max_depth=30, max_features=auto, min_samples_leaf=40, n_estimators=120, total=  19.7s\n",
      "[CV] bootstrap=True, max_depth=30, max_features=sqrt, min_samples_leaf=30, n_estimators=100 \n",
      "[CV]  bootstrap=True, max_depth=30, max_features=sqrt, min_samples_leaf=30, n_estimators=100, total=  14.9s\n",
      "[CV] bootstrap=True, max_depth=30, max_features=sqrt, min_samples_leaf=30, n_estimators=100 \n",
      "[CV]  bootstrap=True, max_depth=30, max_features=sqrt, min_samples_leaf=30, n_estimators=100, total=  13.9s\n",
      "[CV] bootstrap=True, max_depth=30, max_features=sqrt, min_samples_leaf=30, n_estimators=100 \n",
      "[CV]  bootstrap=True, max_depth=30, max_features=sqrt, min_samples_leaf=30, n_estimators=100, total=  12.9s\n",
      "[CV] bootstrap=True, max_depth=30, max_features=sqrt, min_samples_leaf=30, n_estimators=100 \n",
      "[CV]  bootstrap=True, max_depth=30, max_features=sqrt, min_samples_leaf=30, n_estimators=100, total=  12.8s\n",
      "[CV] bootstrap=True, max_depth=30, max_features=sqrt, min_samples_leaf=30, n_estimators=100 \n",
      "[CV]  bootstrap=True, max_depth=30, max_features=sqrt, min_samples_leaf=30, n_estimators=100, total=  13.6s\n",
      "[CV] bootstrap=True, max_depth=30, max_features=sqrt, min_samples_leaf=30, n_estimators=120 \n",
      "[CV]  bootstrap=True, max_depth=30, max_features=sqrt, min_samples_leaf=30, n_estimators=120, total=  15.7s\n",
      "[CV] bootstrap=True, max_depth=30, max_features=sqrt, min_samples_leaf=30, n_estimators=120 \n",
      "[CV]  bootstrap=True, max_depth=30, max_features=sqrt, min_samples_leaf=30, n_estimators=120, total=  16.2s\n",
      "[CV] bootstrap=True, max_depth=30, max_features=sqrt, min_samples_leaf=30, n_estimators=120 \n",
      "[CV]  bootstrap=True, max_depth=30, max_features=sqrt, min_samples_leaf=30, n_estimators=120, total=  16.7s\n",
      "[CV] bootstrap=True, max_depth=30, max_features=sqrt, min_samples_leaf=30, n_estimators=120 \n",
      "[CV]  bootstrap=True, max_depth=30, max_features=sqrt, min_samples_leaf=30, n_estimators=120, total=  24.5s\n",
      "[CV] bootstrap=True, max_depth=30, max_features=sqrt, min_samples_leaf=30, n_estimators=120 \n",
      "[CV]  bootstrap=True, max_depth=30, max_features=sqrt, min_samples_leaf=30, n_estimators=120, total=  23.7s\n",
      "[CV] bootstrap=True, max_depth=30, max_features=sqrt, min_samples_leaf=40, n_estimators=100 \n",
      "[CV]  bootstrap=True, max_depth=30, max_features=sqrt, min_samples_leaf=40, n_estimators=100, total=  16.3s\n",
      "[CV] bootstrap=True, max_depth=30, max_features=sqrt, min_samples_leaf=40, n_estimators=100 \n",
      "[CV]  bootstrap=True, max_depth=30, max_features=sqrt, min_samples_leaf=40, n_estimators=100, total=  25.3s\n",
      "[CV] bootstrap=True, max_depth=30, max_features=sqrt, min_samples_leaf=40, n_estimators=100 \n",
      "[CV]  bootstrap=True, max_depth=30, max_features=sqrt, min_samples_leaf=40, n_estimators=100, total=  14.8s\n",
      "[CV] bootstrap=True, max_depth=30, max_features=sqrt, min_samples_leaf=40, n_estimators=100 \n",
      "[CV]  bootstrap=True, max_depth=30, max_features=sqrt, min_samples_leaf=40, n_estimators=100, total=  13.4s\n",
      "[CV] bootstrap=True, max_depth=30, max_features=sqrt, min_samples_leaf=40, n_estimators=100 \n",
      "[CV]  bootstrap=True, max_depth=30, max_features=sqrt, min_samples_leaf=40, n_estimators=100, total=  13.4s\n",
      "[CV] bootstrap=True, max_depth=30, max_features=sqrt, min_samples_leaf=40, n_estimators=120 \n",
      "[CV]  bootstrap=True, max_depth=30, max_features=sqrt, min_samples_leaf=40, n_estimators=120, total=  16.0s\n",
      "[CV] bootstrap=True, max_depth=30, max_features=sqrt, min_samples_leaf=40, n_estimators=120 \n",
      "[CV]  bootstrap=True, max_depth=30, max_features=sqrt, min_samples_leaf=40, n_estimators=120, total=  16.8s\n",
      "[CV] bootstrap=True, max_depth=30, max_features=sqrt, min_samples_leaf=40, n_estimators=120 \n",
      "[CV]  bootstrap=True, max_depth=30, max_features=sqrt, min_samples_leaf=40, n_estimators=120, total=  16.1s\n",
      "[CV] bootstrap=True, max_depth=30, max_features=sqrt, min_samples_leaf=40, n_estimators=120 \n",
      "[CV]  bootstrap=True, max_depth=30, max_features=sqrt, min_samples_leaf=40, n_estimators=120, total=  21.0s\n",
      "[CV] bootstrap=True, max_depth=30, max_features=sqrt, min_samples_leaf=40, n_estimators=120 \n",
      "[CV]  bootstrap=True, max_depth=30, max_features=sqrt, min_samples_leaf=40, n_estimators=120, total=  16.6s\n",
      "[CV] bootstrap=True, max_depth=30, max_features=None, min_samples_leaf=30, n_estimators=100 \n",
      "[CV]  bootstrap=True, max_depth=30, max_features=None, min_samples_leaf=30, n_estimators=100, total=  34.5s\n",
      "[CV] bootstrap=True, max_depth=30, max_features=None, min_samples_leaf=30, n_estimators=100 \n",
      "[CV]  bootstrap=True, max_depth=30, max_features=None, min_samples_leaf=30, n_estimators=100, total=  33.3s\n",
      "[CV] bootstrap=True, max_depth=30, max_features=None, min_samples_leaf=30, n_estimators=100 \n"
     ]
    },
    {
     "name": "stdout",
     "output_type": "stream",
     "text": [
      "[CV]  bootstrap=True, max_depth=30, max_features=None, min_samples_leaf=30, n_estimators=100, total=  34.7s\n",
      "[CV] bootstrap=True, max_depth=30, max_features=None, min_samples_leaf=30, n_estimators=100 \n",
      "[CV]  bootstrap=True, max_depth=30, max_features=None, min_samples_leaf=30, n_estimators=100, total=  33.0s\n",
      "[CV] bootstrap=True, max_depth=30, max_features=None, min_samples_leaf=30, n_estimators=100 \n",
      "[CV]  bootstrap=True, max_depth=30, max_features=None, min_samples_leaf=30, n_estimators=100, total=  36.1s\n",
      "[CV] bootstrap=True, max_depth=30, max_features=None, min_samples_leaf=30, n_estimators=120 \n",
      "[CV]  bootstrap=True, max_depth=30, max_features=None, min_samples_leaf=30, n_estimators=120, total=  36.3s\n",
      "[CV] bootstrap=True, max_depth=30, max_features=None, min_samples_leaf=30, n_estimators=120 \n",
      "[CV]  bootstrap=True, max_depth=30, max_features=None, min_samples_leaf=30, n_estimators=120, total=  36.8s\n",
      "[CV] bootstrap=True, max_depth=30, max_features=None, min_samples_leaf=30, n_estimators=120 \n",
      "[CV]  bootstrap=True, max_depth=30, max_features=None, min_samples_leaf=30, n_estimators=120, total=  41.3s\n",
      "[CV] bootstrap=True, max_depth=30, max_features=None, min_samples_leaf=30, n_estimators=120 \n",
      "[CV]  bootstrap=True, max_depth=30, max_features=None, min_samples_leaf=30, n_estimators=120, total=  39.8s\n",
      "[CV] bootstrap=True, max_depth=30, max_features=None, min_samples_leaf=30, n_estimators=120 \n",
      "[CV]  bootstrap=True, max_depth=30, max_features=None, min_samples_leaf=30, n_estimators=120, total=  41.1s\n",
      "[CV] bootstrap=True, max_depth=30, max_features=None, min_samples_leaf=40, n_estimators=100 \n",
      "[CV]  bootstrap=True, max_depth=30, max_features=None, min_samples_leaf=40, n_estimators=100, total=  32.4s\n",
      "[CV] bootstrap=True, max_depth=30, max_features=None, min_samples_leaf=40, n_estimators=100 \n",
      "[CV]  bootstrap=True, max_depth=30, max_features=None, min_samples_leaf=40, n_estimators=100, total=  34.5s\n",
      "[CV] bootstrap=True, max_depth=30, max_features=None, min_samples_leaf=40, n_estimators=100 \n",
      "[CV]  bootstrap=True, max_depth=30, max_features=None, min_samples_leaf=40, n_estimators=100, total=  33.5s\n",
      "[CV] bootstrap=True, max_depth=30, max_features=None, min_samples_leaf=40, n_estimators=100 \n",
      "[CV]  bootstrap=True, max_depth=30, max_features=None, min_samples_leaf=40, n_estimators=100, total=  35.7s\n",
      "[CV] bootstrap=True, max_depth=30, max_features=None, min_samples_leaf=40, n_estimators=100 \n",
      "[CV]  bootstrap=True, max_depth=30, max_features=None, min_samples_leaf=40, n_estimators=100, total=  35.5s\n",
      "[CV] bootstrap=True, max_depth=30, max_features=None, min_samples_leaf=40, n_estimators=120 \n",
      "[CV]  bootstrap=True, max_depth=30, max_features=None, min_samples_leaf=40, n_estimators=120, total=  39.6s\n",
      "[CV] bootstrap=True, max_depth=30, max_features=None, min_samples_leaf=40, n_estimators=120 \n",
      "[CV]  bootstrap=True, max_depth=30, max_features=None, min_samples_leaf=40, n_estimators=120, total=  40.1s\n",
      "[CV] bootstrap=True, max_depth=30, max_features=None, min_samples_leaf=40, n_estimators=120 \n",
      "[CV]  bootstrap=True, max_depth=30, max_features=None, min_samples_leaf=40, n_estimators=120, total=  52.1s\n",
      "[CV] bootstrap=True, max_depth=30, max_features=None, min_samples_leaf=40, n_estimators=120 \n",
      "[CV]  bootstrap=True, max_depth=30, max_features=None, min_samples_leaf=40, n_estimators=120, total=  40.9s\n",
      "[CV] bootstrap=True, max_depth=30, max_features=None, min_samples_leaf=40, n_estimators=120 \n",
      "[CV]  bootstrap=True, max_depth=30, max_features=None, min_samples_leaf=40, n_estimators=120, total=  39.6s\n",
      "[CV] bootstrap=True, max_depth=60, max_features=auto, min_samples_leaf=30, n_estimators=100 \n",
      "[CV]  bootstrap=True, max_depth=60, max_features=auto, min_samples_leaf=30, n_estimators=100, total=  13.5s\n",
      "[CV] bootstrap=True, max_depth=60, max_features=auto, min_samples_leaf=30, n_estimators=100 \n",
      "[CV]  bootstrap=True, max_depth=60, max_features=auto, min_samples_leaf=30, n_estimators=100, total=  13.2s\n",
      "[CV] bootstrap=True, max_depth=60, max_features=auto, min_samples_leaf=30, n_estimators=100 \n",
      "[CV]  bootstrap=True, max_depth=60, max_features=auto, min_samples_leaf=30, n_estimators=100, total=  13.4s\n",
      "[CV] bootstrap=True, max_depth=60, max_features=auto, min_samples_leaf=30, n_estimators=100 \n",
      "[CV]  bootstrap=True, max_depth=60, max_features=auto, min_samples_leaf=30, n_estimators=100, total=  13.2s\n",
      "[CV] bootstrap=True, max_depth=60, max_features=auto, min_samples_leaf=30, n_estimators=100 \n",
      "[CV]  bootstrap=True, max_depth=60, max_features=auto, min_samples_leaf=30, n_estimators=100, total=  14.0s\n",
      "[CV] bootstrap=True, max_depth=60, max_features=auto, min_samples_leaf=30, n_estimators=120 \n",
      "[CV]  bootstrap=True, max_depth=60, max_features=auto, min_samples_leaf=30, n_estimators=120, total=  16.0s\n",
      "[CV] bootstrap=True, max_depth=60, max_features=auto, min_samples_leaf=30, n_estimators=120 \n",
      "[CV]  bootstrap=True, max_depth=60, max_features=auto, min_samples_leaf=30, n_estimators=120, total=  15.5s\n",
      "[CV] bootstrap=True, max_depth=60, max_features=auto, min_samples_leaf=30, n_estimators=120 \n",
      "[CV]  bootstrap=True, max_depth=60, max_features=auto, min_samples_leaf=30, n_estimators=120, total=  15.6s\n",
      "[CV] bootstrap=True, max_depth=60, max_features=auto, min_samples_leaf=30, n_estimators=120 \n",
      "[CV]  bootstrap=True, max_depth=60, max_features=auto, min_samples_leaf=30, n_estimators=120, total=  22.8s\n",
      "[CV] bootstrap=True, max_depth=60, max_features=auto, min_samples_leaf=30, n_estimators=120 \n",
      "[CV]  bootstrap=True, max_depth=60, max_features=auto, min_samples_leaf=30, n_estimators=120, total=  22.6s\n",
      "[CV] bootstrap=True, max_depth=60, max_features=auto, min_samples_leaf=40, n_estimators=100 \n",
      "[CV]  bootstrap=True, max_depth=60, max_features=auto, min_samples_leaf=40, n_estimators=100, total=  16.0s\n",
      "[CV] bootstrap=True, max_depth=60, max_features=auto, min_samples_leaf=40, n_estimators=100 \n",
      "[CV]  bootstrap=True, max_depth=60, max_features=auto, min_samples_leaf=40, n_estimators=100, total=  14.6s\n",
      "[CV] bootstrap=True, max_depth=60, max_features=auto, min_samples_leaf=40, n_estimators=100 \n",
      "[CV]  bootstrap=True, max_depth=60, max_features=auto, min_samples_leaf=40, n_estimators=100, total=  11.2s\n",
      "[CV] bootstrap=True, max_depth=60, max_features=auto, min_samples_leaf=40, n_estimators=100 \n",
      "[CV]  bootstrap=True, max_depth=60, max_features=auto, min_samples_leaf=40, n_estimators=100, total=  17.0s\n",
      "[CV] bootstrap=True, max_depth=60, max_features=auto, min_samples_leaf=40, n_estimators=100 \n",
      "[CV]  bootstrap=True, max_depth=60, max_features=auto, min_samples_leaf=40, n_estimators=100, total=  14.9s\n",
      "[CV] bootstrap=True, max_depth=60, max_features=auto, min_samples_leaf=40, n_estimators=120 \n",
      "[CV]  bootstrap=True, max_depth=60, max_features=auto, min_samples_leaf=40, n_estimators=120, total=  19.0s\n",
      "[CV] bootstrap=True, max_depth=60, max_features=auto, min_samples_leaf=40, n_estimators=120 \n",
      "[CV]  bootstrap=True, max_depth=60, max_features=auto, min_samples_leaf=40, n_estimators=120, total=  15.7s\n",
      "[CV] bootstrap=True, max_depth=60, max_features=auto, min_samples_leaf=40, n_estimators=120 \n",
      "[CV]  bootstrap=True, max_depth=60, max_features=auto, min_samples_leaf=40, n_estimators=120, total=  16.0s\n",
      "[CV] bootstrap=True, max_depth=60, max_features=auto, min_samples_leaf=40, n_estimators=120 \n",
      "[CV]  bootstrap=True, max_depth=60, max_features=auto, min_samples_leaf=40, n_estimators=120, total=  31.8s\n",
      "[CV] bootstrap=True, max_depth=60, max_features=auto, min_samples_leaf=40, n_estimators=120 \n",
      "[CV]  bootstrap=True, max_depth=60, max_features=auto, min_samples_leaf=40, n_estimators=120, total=  19.7s\n",
      "[CV] bootstrap=True, max_depth=60, max_features=sqrt, min_samples_leaf=30, n_estimators=100 \n",
      "[CV]  bootstrap=True, max_depth=60, max_features=sqrt, min_samples_leaf=30, n_estimators=100, total=  15.1s\n",
      "[CV] bootstrap=True, max_depth=60, max_features=sqrt, min_samples_leaf=30, n_estimators=100 \n",
      "[CV]  bootstrap=True, max_depth=60, max_features=sqrt, min_samples_leaf=30, n_estimators=100, total=  15.0s\n",
      "[CV] bootstrap=True, max_depth=60, max_features=sqrt, min_samples_leaf=30, n_estimators=100 \n",
      "[CV]  bootstrap=True, max_depth=60, max_features=sqrt, min_samples_leaf=30, n_estimators=100, total=  20.8s\n",
      "[CV] bootstrap=True, max_depth=60, max_features=sqrt, min_samples_leaf=30, n_estimators=100 \n"
     ]
    },
    {
     "name": "stdout",
     "output_type": "stream",
     "text": [
      "[CV]  bootstrap=True, max_depth=60, max_features=sqrt, min_samples_leaf=30, n_estimators=100, total=  17.3s\n",
      "[CV] bootstrap=True, max_depth=60, max_features=sqrt, min_samples_leaf=30, n_estimators=100 \n",
      "[CV]  bootstrap=True, max_depth=60, max_features=sqrt, min_samples_leaf=30, n_estimators=100, total=  17.7s\n",
      "[CV] bootstrap=True, max_depth=60, max_features=sqrt, min_samples_leaf=30, n_estimators=120 \n",
      "[CV]  bootstrap=True, max_depth=60, max_features=sqrt, min_samples_leaf=30, n_estimators=120, total=  17.9s\n",
      "[CV] bootstrap=True, max_depth=60, max_features=sqrt, min_samples_leaf=30, n_estimators=120 \n",
      "[CV]  bootstrap=True, max_depth=60, max_features=sqrt, min_samples_leaf=30, n_estimators=120, total=  17.3s\n",
      "[CV] bootstrap=True, max_depth=60, max_features=sqrt, min_samples_leaf=30, n_estimators=120 \n",
      "[CV]  bootstrap=True, max_depth=60, max_features=sqrt, min_samples_leaf=30, n_estimators=120, total=  18.6s\n",
      "[CV] bootstrap=True, max_depth=60, max_features=sqrt, min_samples_leaf=30, n_estimators=120 \n",
      "[CV]  bootstrap=True, max_depth=60, max_features=sqrt, min_samples_leaf=30, n_estimators=120, total=  17.3s\n",
      "[CV] bootstrap=True, max_depth=60, max_features=sqrt, min_samples_leaf=30, n_estimators=120 \n",
      "[CV]  bootstrap=True, max_depth=60, max_features=sqrt, min_samples_leaf=30, n_estimators=120, total=  16.9s\n",
      "[CV] bootstrap=True, max_depth=60, max_features=sqrt, min_samples_leaf=40, n_estimators=100 \n",
      "[CV]  bootstrap=True, max_depth=60, max_features=sqrt, min_samples_leaf=40, n_estimators=100, total=  14.3s\n",
      "[CV] bootstrap=True, max_depth=60, max_features=sqrt, min_samples_leaf=40, n_estimators=100 \n",
      "[CV]  bootstrap=True, max_depth=60, max_features=sqrt, min_samples_leaf=40, n_estimators=100, total=  13.3s\n",
      "[CV] bootstrap=True, max_depth=60, max_features=sqrt, min_samples_leaf=40, n_estimators=100 \n",
      "[CV]  bootstrap=True, max_depth=60, max_features=sqrt, min_samples_leaf=40, n_estimators=100, total=  18.7s\n",
      "[CV] bootstrap=True, max_depth=60, max_features=sqrt, min_samples_leaf=40, n_estimators=100 \n",
      "[CV]  bootstrap=True, max_depth=60, max_features=sqrt, min_samples_leaf=40, n_estimators=100, total=  15.1s\n",
      "[CV] bootstrap=True, max_depth=60, max_features=sqrt, min_samples_leaf=40, n_estimators=100 \n",
      "[CV]  bootstrap=True, max_depth=60, max_features=sqrt, min_samples_leaf=40, n_estimators=100, total=  15.7s\n",
      "[CV] bootstrap=True, max_depth=60, max_features=sqrt, min_samples_leaf=40, n_estimators=120 \n",
      "[CV]  bootstrap=True, max_depth=60, max_features=sqrt, min_samples_leaf=40, n_estimators=120, total=  15.0s\n",
      "[CV] bootstrap=True, max_depth=60, max_features=sqrt, min_samples_leaf=40, n_estimators=120 \n",
      "[CV]  bootstrap=True, max_depth=60, max_features=sqrt, min_samples_leaf=40, n_estimators=120, total=  18.9s\n",
      "[CV] bootstrap=True, max_depth=60, max_features=sqrt, min_samples_leaf=40, n_estimators=120 \n",
      "[CV]  bootstrap=True, max_depth=60, max_features=sqrt, min_samples_leaf=40, n_estimators=120, total=  17.4s\n",
      "[CV] bootstrap=True, max_depth=60, max_features=sqrt, min_samples_leaf=40, n_estimators=120 \n",
      "[CV]  bootstrap=True, max_depth=60, max_features=sqrt, min_samples_leaf=40, n_estimators=120, total=  18.8s\n",
      "[CV] bootstrap=True, max_depth=60, max_features=sqrt, min_samples_leaf=40, n_estimators=120 \n",
      "[CV]  bootstrap=True, max_depth=60, max_features=sqrt, min_samples_leaf=40, n_estimators=120, total=  21.6s\n",
      "[CV] bootstrap=True, max_depth=60, max_features=None, min_samples_leaf=30, n_estimators=100 \n",
      "[CV]  bootstrap=True, max_depth=60, max_features=None, min_samples_leaf=30, n_estimators=100, total=  56.4s\n",
      "[CV] bootstrap=True, max_depth=60, max_features=None, min_samples_leaf=30, n_estimators=100 \n",
      "[CV]  bootstrap=True, max_depth=60, max_features=None, min_samples_leaf=30, n_estimators=100, total=  33.1s\n",
      "[CV] bootstrap=True, max_depth=60, max_features=None, min_samples_leaf=30, n_estimators=100 \n",
      "[CV]  bootstrap=True, max_depth=60, max_features=None, min_samples_leaf=30, n_estimators=100, total=  32.9s\n",
      "[CV] bootstrap=True, max_depth=60, max_features=None, min_samples_leaf=30, n_estimators=100 \n",
      "[CV]  bootstrap=True, max_depth=60, max_features=None, min_samples_leaf=30, n_estimators=100, total=  31.0s\n",
      "[CV] bootstrap=True, max_depth=60, max_features=None, min_samples_leaf=30, n_estimators=100 \n",
      "[CV]  bootstrap=True, max_depth=60, max_features=None, min_samples_leaf=30, n_estimators=100, total=  38.4s\n",
      "[CV] bootstrap=True, max_depth=60, max_features=None, min_samples_leaf=30, n_estimators=120 \n",
      "[CV]  bootstrap=True, max_depth=60, max_features=None, min_samples_leaf=30, n_estimators=120, total=  44.0s\n",
      "[CV] bootstrap=True, max_depth=60, max_features=None, min_samples_leaf=30, n_estimators=120 \n",
      "[CV]  bootstrap=True, max_depth=60, max_features=None, min_samples_leaf=30, n_estimators=120, total=  42.0s\n",
      "[CV] bootstrap=True, max_depth=60, max_features=None, min_samples_leaf=30, n_estimators=120 \n",
      "[CV]  bootstrap=True, max_depth=60, max_features=None, min_samples_leaf=30, n_estimators=120, total=  39.7s\n",
      "[CV] bootstrap=True, max_depth=60, max_features=None, min_samples_leaf=30, n_estimators=120 \n",
      "[CV]  bootstrap=True, max_depth=60, max_features=None, min_samples_leaf=30, n_estimators=120, total=  41.7s\n",
      "[CV] bootstrap=True, max_depth=60, max_features=None, min_samples_leaf=30, n_estimators=120 \n",
      "[CV]  bootstrap=True, max_depth=60, max_features=None, min_samples_leaf=30, n_estimators=120, total=  36.4s\n",
      "[CV] bootstrap=True, max_depth=60, max_features=None, min_samples_leaf=40, n_estimators=100 \n",
      "[CV]  bootstrap=True, max_depth=60, max_features=None, min_samples_leaf=40, n_estimators=100, total=  32.8s\n",
      "[CV] bootstrap=True, max_depth=60, max_features=None, min_samples_leaf=40, n_estimators=100 \n",
      "[CV]  bootstrap=True, max_depth=60, max_features=None, min_samples_leaf=40, n_estimators=100, total=  35.2s\n",
      "[CV] bootstrap=True, max_depth=60, max_features=None, min_samples_leaf=40, n_estimators=100 \n",
      "[CV]  bootstrap=True, max_depth=60, max_features=None, min_samples_leaf=40, n_estimators=100, total=  35.0s\n",
      "[CV] bootstrap=True, max_depth=60, max_features=None, min_samples_leaf=40, n_estimators=100 \n",
      "[CV]  bootstrap=True, max_depth=60, max_features=None, min_samples_leaf=40, n_estimators=100, total=  34.0s\n",
      "[CV] bootstrap=True, max_depth=60, max_features=None, min_samples_leaf=40, n_estimators=100 \n",
      "[CV]  bootstrap=True, max_depth=60, max_features=None, min_samples_leaf=40, n_estimators=100, total=  34.8s\n",
      "[CV] bootstrap=True, max_depth=60, max_features=None, min_samples_leaf=40, n_estimators=120 \n",
      "[CV]  bootstrap=True, max_depth=60, max_features=None, min_samples_leaf=40, n_estimators=120, total=  39.3s\n",
      "[CV] bootstrap=True, max_depth=60, max_features=None, min_samples_leaf=40, n_estimators=120 \n",
      "[CV]  bootstrap=True, max_depth=60, max_features=None, min_samples_leaf=40, n_estimators=120, total=  38.3s\n",
      "[CV] bootstrap=True, max_depth=60, max_features=None, min_samples_leaf=40, n_estimators=120 \n",
      "[CV]  bootstrap=True, max_depth=60, max_features=None, min_samples_leaf=40, n_estimators=120, total=  42.6s\n",
      "[CV] bootstrap=True, max_depth=60, max_features=None, min_samples_leaf=40, n_estimators=120 \n",
      "[CV]  bootstrap=True, max_depth=60, max_features=None, min_samples_leaf=40, n_estimators=120, total=  39.3s\n",
      "[CV] bootstrap=True, max_depth=60, max_features=None, min_samples_leaf=40, n_estimators=120 \n",
      "[CV]  bootstrap=True, max_depth=60, max_features=None, min_samples_leaf=40, n_estimators=120, total=  38.7s\n",
      "[CV] bootstrap=True, max_depth=90, max_features=auto, min_samples_leaf=30, n_estimators=100 \n",
      "[CV]  bootstrap=True, max_depth=90, max_features=auto, min_samples_leaf=30, n_estimators=100, total=  13.5s\n",
      "[CV] bootstrap=True, max_depth=90, max_features=auto, min_samples_leaf=30, n_estimators=100 \n",
      "[CV]  bootstrap=True, max_depth=90, max_features=auto, min_samples_leaf=30, n_estimators=100, total=  14.1s\n",
      "[CV] bootstrap=True, max_depth=90, max_features=auto, min_samples_leaf=30, n_estimators=100 \n",
      "[CV]  bootstrap=True, max_depth=90, max_features=auto, min_samples_leaf=30, n_estimators=100, total=  15.3s\n",
      "[CV] bootstrap=True, max_depth=90, max_features=auto, min_samples_leaf=30, n_estimators=100 \n",
      "[CV]  bootstrap=True, max_depth=90, max_features=auto, min_samples_leaf=30, n_estimators=100, total=  14.7s\n",
      "[CV] bootstrap=True, max_depth=90, max_features=auto, min_samples_leaf=30, n_estimators=100 \n"
     ]
    },
    {
     "name": "stdout",
     "output_type": "stream",
     "text": [
      "[CV]  bootstrap=True, max_depth=90, max_features=auto, min_samples_leaf=30, n_estimators=100, total=  15.0s\n",
      "[CV] bootstrap=True, max_depth=90, max_features=auto, min_samples_leaf=30, n_estimators=120 \n",
      "[CV]  bootstrap=True, max_depth=90, max_features=auto, min_samples_leaf=30, n_estimators=120, total=  15.6s\n",
      "[CV] bootstrap=True, max_depth=90, max_features=auto, min_samples_leaf=30, n_estimators=120 \n",
      "[CV]  bootstrap=True, max_depth=90, max_features=auto, min_samples_leaf=30, n_estimators=120, total=  16.9s\n",
      "[CV] bootstrap=True, max_depth=90, max_features=auto, min_samples_leaf=30, n_estimators=120 \n",
      "[CV]  bootstrap=True, max_depth=90, max_features=auto, min_samples_leaf=30, n_estimators=120, total=  17.4s\n",
      "[CV] bootstrap=True, max_depth=90, max_features=auto, min_samples_leaf=30, n_estimators=120 \n",
      "[CV]  bootstrap=True, max_depth=90, max_features=auto, min_samples_leaf=30, n_estimators=120, total=  21.7s\n",
      "[CV] bootstrap=True, max_depth=90, max_features=auto, min_samples_leaf=30, n_estimators=120 \n",
      "[CV]  bootstrap=True, max_depth=90, max_features=auto, min_samples_leaf=30, n_estimators=120, total=  16.6s\n",
      "[CV] bootstrap=True, max_depth=90, max_features=auto, min_samples_leaf=40, n_estimators=100 \n",
      "[CV]  bootstrap=True, max_depth=90, max_features=auto, min_samples_leaf=40, n_estimators=100, total=  12.9s\n",
      "[CV] bootstrap=True, max_depth=90, max_features=auto, min_samples_leaf=40, n_estimators=100 \n",
      "[CV]  bootstrap=True, max_depth=90, max_features=auto, min_samples_leaf=40, n_estimators=100, total=  13.7s\n",
      "[CV] bootstrap=True, max_depth=90, max_features=auto, min_samples_leaf=40, n_estimators=100 \n",
      "[CV]  bootstrap=True, max_depth=90, max_features=auto, min_samples_leaf=40, n_estimators=100, total=  13.2s\n",
      "[CV] bootstrap=True, max_depth=90, max_features=auto, min_samples_leaf=40, n_estimators=100 \n",
      "[CV]  bootstrap=True, max_depth=90, max_features=auto, min_samples_leaf=40, n_estimators=100, total=  11.4s\n",
      "[CV] bootstrap=True, max_depth=90, max_features=auto, min_samples_leaf=40, n_estimators=100 \n",
      "[CV]  bootstrap=True, max_depth=90, max_features=auto, min_samples_leaf=40, n_estimators=100, total=  11.4s\n",
      "[CV] bootstrap=True, max_depth=90, max_features=auto, min_samples_leaf=40, n_estimators=120 \n",
      "[CV]  bootstrap=True, max_depth=90, max_features=auto, min_samples_leaf=40, n_estimators=120, total=  14.1s\n",
      "[CV] bootstrap=True, max_depth=90, max_features=auto, min_samples_leaf=40, n_estimators=120 \n",
      "[CV]  bootstrap=True, max_depth=90, max_features=auto, min_samples_leaf=40, n_estimators=120, total=  13.7s\n",
      "[CV] bootstrap=True, max_depth=90, max_features=auto, min_samples_leaf=40, n_estimators=120 \n",
      "[CV]  bootstrap=True, max_depth=90, max_features=auto, min_samples_leaf=40, n_estimators=120, total=  14.6s\n",
      "[CV] bootstrap=True, max_depth=90, max_features=auto, min_samples_leaf=40, n_estimators=120 \n",
      "[CV]  bootstrap=True, max_depth=90, max_features=auto, min_samples_leaf=40, n_estimators=120, total=  14.0s\n",
      "[CV] bootstrap=True, max_depth=90, max_features=auto, min_samples_leaf=40, n_estimators=120 \n",
      "[CV]  bootstrap=True, max_depth=90, max_features=auto, min_samples_leaf=40, n_estimators=120, total=  13.8s\n",
      "[CV] bootstrap=True, max_depth=90, max_features=sqrt, min_samples_leaf=30, n_estimators=100 \n",
      "[CV]  bootstrap=True, max_depth=90, max_features=sqrt, min_samples_leaf=30, n_estimators=100, total=  12.9s\n",
      "[CV] bootstrap=True, max_depth=90, max_features=sqrt, min_samples_leaf=30, n_estimators=100 \n",
      "[CV]  bootstrap=True, max_depth=90, max_features=sqrt, min_samples_leaf=30, n_estimators=100, total=  14.8s\n",
      "[CV] bootstrap=True, max_depth=90, max_features=sqrt, min_samples_leaf=30, n_estimators=100 \n",
      "[CV]  bootstrap=True, max_depth=90, max_features=sqrt, min_samples_leaf=30, n_estimators=100, total=  13.5s\n",
      "[CV] bootstrap=True, max_depth=90, max_features=sqrt, min_samples_leaf=30, n_estimators=100 \n",
      "[CV]  bootstrap=True, max_depth=90, max_features=sqrt, min_samples_leaf=30, n_estimators=100, total=  11.6s\n",
      "[CV] bootstrap=True, max_depth=90, max_features=sqrt, min_samples_leaf=30, n_estimators=100 \n",
      "[CV]  bootstrap=True, max_depth=90, max_features=sqrt, min_samples_leaf=30, n_estimators=100, total=  12.6s\n",
      "[CV] bootstrap=True, max_depth=90, max_features=sqrt, min_samples_leaf=30, n_estimators=120 \n",
      "[CV]  bootstrap=True, max_depth=90, max_features=sqrt, min_samples_leaf=30, n_estimators=120, total=  15.5s\n",
      "[CV] bootstrap=True, max_depth=90, max_features=sqrt, min_samples_leaf=30, n_estimators=120 \n",
      "[CV]  bootstrap=True, max_depth=90, max_features=sqrt, min_samples_leaf=30, n_estimators=120, total=  15.2s\n",
      "[CV] bootstrap=True, max_depth=90, max_features=sqrt, min_samples_leaf=30, n_estimators=120 \n",
      "[CV]  bootstrap=True, max_depth=90, max_features=sqrt, min_samples_leaf=30, n_estimators=120, total=  16.0s\n",
      "[CV] bootstrap=True, max_depth=90, max_features=sqrt, min_samples_leaf=30, n_estimators=120 \n",
      "[CV]  bootstrap=True, max_depth=90, max_features=sqrt, min_samples_leaf=30, n_estimators=120, total=  13.6s\n",
      "[CV] bootstrap=True, max_depth=90, max_features=sqrt, min_samples_leaf=30, n_estimators=120 \n",
      "[CV]  bootstrap=True, max_depth=90, max_features=sqrt, min_samples_leaf=30, n_estimators=120, total=  13.7s\n",
      "[CV] bootstrap=True, max_depth=90, max_features=sqrt, min_samples_leaf=40, n_estimators=100 \n",
      "[CV]  bootstrap=True, max_depth=90, max_features=sqrt, min_samples_leaf=40, n_estimators=100, total=  11.5s\n",
      "[CV] bootstrap=True, max_depth=90, max_features=sqrt, min_samples_leaf=40, n_estimators=100 \n",
      "[CV]  bootstrap=True, max_depth=90, max_features=sqrt, min_samples_leaf=40, n_estimators=100, total=  11.4s\n",
      "[CV] bootstrap=True, max_depth=90, max_features=sqrt, min_samples_leaf=40, n_estimators=100 \n",
      "[CV]  bootstrap=True, max_depth=90, max_features=sqrt, min_samples_leaf=40, n_estimators=100, total=  11.9s\n",
      "[CV] bootstrap=True, max_depth=90, max_features=sqrt, min_samples_leaf=40, n_estimators=100 \n",
      "[CV]  bootstrap=True, max_depth=90, max_features=sqrt, min_samples_leaf=40, n_estimators=100, total=  12.0s\n",
      "[CV] bootstrap=True, max_depth=90, max_features=sqrt, min_samples_leaf=40, n_estimators=100 \n",
      "[CV]  bootstrap=True, max_depth=90, max_features=sqrt, min_samples_leaf=40, n_estimators=100, total=  12.7s\n",
      "[CV] bootstrap=True, max_depth=90, max_features=sqrt, min_samples_leaf=40, n_estimators=120 \n",
      "[CV]  bootstrap=True, max_depth=90, max_features=sqrt, min_samples_leaf=40, n_estimators=120, total=  14.4s\n",
      "[CV] bootstrap=True, max_depth=90, max_features=sqrt, min_samples_leaf=40, n_estimators=120 \n",
      "[CV]  bootstrap=True, max_depth=90, max_features=sqrt, min_samples_leaf=40, n_estimators=120, total=  14.9s\n",
      "[CV] bootstrap=True, max_depth=90, max_features=sqrt, min_samples_leaf=40, n_estimators=120 \n",
      "[CV]  bootstrap=True, max_depth=90, max_features=sqrt, min_samples_leaf=40, n_estimators=120, total=  17.5s\n",
      "[CV] bootstrap=True, max_depth=90, max_features=sqrt, min_samples_leaf=40, n_estimators=120 \n",
      "[CV]  bootstrap=True, max_depth=90, max_features=sqrt, min_samples_leaf=40, n_estimators=120, total=  18.3s\n",
      "[CV] bootstrap=True, max_depth=90, max_features=sqrt, min_samples_leaf=40, n_estimators=120 \n",
      "[CV]  bootstrap=True, max_depth=90, max_features=sqrt, min_samples_leaf=40, n_estimators=120, total=  19.3s\n",
      "[CV] bootstrap=True, max_depth=90, max_features=None, min_samples_leaf=30, n_estimators=100 \n",
      "[CV]  bootstrap=True, max_depth=90, max_features=None, min_samples_leaf=30, n_estimators=100, total=  32.3s\n",
      "[CV] bootstrap=True, max_depth=90, max_features=None, min_samples_leaf=30, n_estimators=100 \n",
      "[CV]  bootstrap=True, max_depth=90, max_features=None, min_samples_leaf=30, n_estimators=100, total=  33.8s\n",
      "[CV] bootstrap=True, max_depth=90, max_features=None, min_samples_leaf=30, n_estimators=100 \n",
      "[CV]  bootstrap=True, max_depth=90, max_features=None, min_samples_leaf=30, n_estimators=100, total=  35.1s\n",
      "[CV] bootstrap=True, max_depth=90, max_features=None, min_samples_leaf=30, n_estimators=100 \n",
      "[CV]  bootstrap=True, max_depth=90, max_features=None, min_samples_leaf=30, n_estimators=100, total=  30.6s\n",
      "[CV] bootstrap=True, max_depth=90, max_features=None, min_samples_leaf=30, n_estimators=100 \n",
      "[CV]  bootstrap=True, max_depth=90, max_features=None, min_samples_leaf=30, n_estimators=100, total=  32.6s\n",
      "[CV] bootstrap=True, max_depth=90, max_features=None, min_samples_leaf=30, n_estimators=120 \n"
     ]
    },
    {
     "name": "stdout",
     "output_type": "stream",
     "text": [
      "[CV]  bootstrap=True, max_depth=90, max_features=None, min_samples_leaf=30, n_estimators=120, total=  37.0s\n",
      "[CV] bootstrap=True, max_depth=90, max_features=None, min_samples_leaf=30, n_estimators=120 \n",
      "[CV]  bootstrap=True, max_depth=90, max_features=None, min_samples_leaf=30, n_estimators=120, total=  35.9s\n",
      "[CV] bootstrap=True, max_depth=90, max_features=None, min_samples_leaf=30, n_estimators=120 \n",
      "[CV]  bootstrap=True, max_depth=90, max_features=None, min_samples_leaf=30, n_estimators=120, total=  55.8s\n",
      "[CV] bootstrap=True, max_depth=90, max_features=None, min_samples_leaf=30, n_estimators=120 \n",
      "[CV]  bootstrap=True, max_depth=90, max_features=None, min_samples_leaf=30, n_estimators=120, total=  44.4s\n",
      "[CV] bootstrap=True, max_depth=90, max_features=None, min_samples_leaf=30, n_estimators=120 \n",
      "[CV]  bootstrap=True, max_depth=90, max_features=None, min_samples_leaf=30, n_estimators=120, total=  37.8s\n",
      "[CV] bootstrap=True, max_depth=90, max_features=None, min_samples_leaf=40, n_estimators=100 \n",
      "[CV]  bootstrap=True, max_depth=90, max_features=None, min_samples_leaf=40, n_estimators=100, total=  31.4s\n",
      "[CV] bootstrap=True, max_depth=90, max_features=None, min_samples_leaf=40, n_estimators=100 \n",
      "[CV]  bootstrap=True, max_depth=90, max_features=None, min_samples_leaf=40, n_estimators=100, total=  29.7s\n",
      "[CV] bootstrap=True, max_depth=90, max_features=None, min_samples_leaf=40, n_estimators=100 \n",
      "[CV]  bootstrap=True, max_depth=90, max_features=None, min_samples_leaf=40, n_estimators=100, total=  36.2s\n",
      "[CV] bootstrap=True, max_depth=90, max_features=None, min_samples_leaf=40, n_estimators=100 \n",
      "[CV]  bootstrap=True, max_depth=90, max_features=None, min_samples_leaf=40, n_estimators=100, total=  32.6s\n",
      "[CV] bootstrap=True, max_depth=90, max_features=None, min_samples_leaf=40, n_estimators=100 \n",
      "[CV]  bootstrap=True, max_depth=90, max_features=None, min_samples_leaf=40, n_estimators=100, total=  30.4s\n",
      "[CV] bootstrap=True, max_depth=90, max_features=None, min_samples_leaf=40, n_estimators=120 \n",
      "[CV]  bootstrap=True, max_depth=90, max_features=None, min_samples_leaf=40, n_estimators=120, total=  34.5s\n",
      "[CV] bootstrap=True, max_depth=90, max_features=None, min_samples_leaf=40, n_estimators=120 \n",
      "[CV]  bootstrap=True, max_depth=90, max_features=None, min_samples_leaf=40, n_estimators=120, total=  34.6s\n",
      "[CV] bootstrap=True, max_depth=90, max_features=None, min_samples_leaf=40, n_estimators=120 \n",
      "[CV]  bootstrap=True, max_depth=90, max_features=None, min_samples_leaf=40, n_estimators=120, total=  35.3s\n",
      "[CV] bootstrap=True, max_depth=90, max_features=None, min_samples_leaf=40, n_estimators=120 \n",
      "[CV]  bootstrap=True, max_depth=90, max_features=None, min_samples_leaf=40, n_estimators=120, total=  34.4s\n",
      "[CV] bootstrap=True, max_depth=90, max_features=None, min_samples_leaf=40, n_estimators=120 \n",
      "[CV]  bootstrap=True, max_depth=90, max_features=None, min_samples_leaf=40, n_estimators=120, total=  36.0s\n",
      "[CV] bootstrap=False, max_depth=30, max_features=auto, min_samples_leaf=30, n_estimators=100 \n",
      "[CV]  bootstrap=False, max_depth=30, max_features=auto, min_samples_leaf=30, n_estimators=100, total=  14.0s\n",
      "[CV] bootstrap=False, max_depth=30, max_features=auto, min_samples_leaf=30, n_estimators=100 \n",
      "[CV]  bootstrap=False, max_depth=30, max_features=auto, min_samples_leaf=30, n_estimators=100, total=  14.5s\n",
      "[CV] bootstrap=False, max_depth=30, max_features=auto, min_samples_leaf=30, n_estimators=100 \n",
      "[CV]  bootstrap=False, max_depth=30, max_features=auto, min_samples_leaf=30, n_estimators=100, total=  14.1s\n",
      "[CV] bootstrap=False, max_depth=30, max_features=auto, min_samples_leaf=30, n_estimators=100 \n",
      "[CV]  bootstrap=False, max_depth=30, max_features=auto, min_samples_leaf=30, n_estimators=100, total=  13.9s\n",
      "[CV] bootstrap=False, max_depth=30, max_features=auto, min_samples_leaf=30, n_estimators=100 \n",
      "[CV]  bootstrap=False, max_depth=30, max_features=auto, min_samples_leaf=30, n_estimators=100, total=  14.2s\n",
      "[CV] bootstrap=False, max_depth=30, max_features=auto, min_samples_leaf=30, n_estimators=120 \n",
      "[CV]  bootstrap=False, max_depth=30, max_features=auto, min_samples_leaf=30, n_estimators=120, total=  16.7s\n",
      "[CV] bootstrap=False, max_depth=30, max_features=auto, min_samples_leaf=30, n_estimators=120 \n",
      "[CV]  bootstrap=False, max_depth=30, max_features=auto, min_samples_leaf=30, n_estimators=120, total=  17.6s\n",
      "[CV] bootstrap=False, max_depth=30, max_features=auto, min_samples_leaf=30, n_estimators=120 \n",
      "[CV]  bootstrap=False, max_depth=30, max_features=auto, min_samples_leaf=30, n_estimators=120, total=  16.5s\n",
      "[CV] bootstrap=False, max_depth=30, max_features=auto, min_samples_leaf=30, n_estimators=120 \n",
      "[CV]  bootstrap=False, max_depth=30, max_features=auto, min_samples_leaf=30, n_estimators=120, total=  16.6s\n",
      "[CV] bootstrap=False, max_depth=30, max_features=auto, min_samples_leaf=30, n_estimators=120 \n",
      "[CV]  bootstrap=False, max_depth=30, max_features=auto, min_samples_leaf=30, n_estimators=120, total=  16.9s\n",
      "[CV] bootstrap=False, max_depth=30, max_features=auto, min_samples_leaf=40, n_estimators=100 \n",
      "[CV]  bootstrap=False, max_depth=30, max_features=auto, min_samples_leaf=40, n_estimators=100, total=  14.9s\n",
      "[CV] bootstrap=False, max_depth=30, max_features=auto, min_samples_leaf=40, n_estimators=100 \n",
      "[CV]  bootstrap=False, max_depth=30, max_features=auto, min_samples_leaf=40, n_estimators=100, total=  14.0s\n",
      "[CV] bootstrap=False, max_depth=30, max_features=auto, min_samples_leaf=40, n_estimators=100 \n",
      "[CV]  bootstrap=False, max_depth=30, max_features=auto, min_samples_leaf=40, n_estimators=100, total=  13.7s\n",
      "[CV] bootstrap=False, max_depth=30, max_features=auto, min_samples_leaf=40, n_estimators=100 \n",
      "[CV]  bootstrap=False, max_depth=30, max_features=auto, min_samples_leaf=40, n_estimators=100, total=  13.7s\n",
      "[CV] bootstrap=False, max_depth=30, max_features=auto, min_samples_leaf=40, n_estimators=100 \n",
      "[CV]  bootstrap=False, max_depth=30, max_features=auto, min_samples_leaf=40, n_estimators=100, total=  14.3s\n",
      "[CV] bootstrap=False, max_depth=30, max_features=auto, min_samples_leaf=40, n_estimators=120 \n",
      "[CV]  bootstrap=False, max_depth=30, max_features=auto, min_samples_leaf=40, n_estimators=120, total=  17.0s\n",
      "[CV] bootstrap=False, max_depth=30, max_features=auto, min_samples_leaf=40, n_estimators=120 \n",
      "[CV]  bootstrap=False, max_depth=30, max_features=auto, min_samples_leaf=40, n_estimators=120, total=  16.5s\n",
      "[CV] bootstrap=False, max_depth=30, max_features=auto, min_samples_leaf=40, n_estimators=120 \n",
      "[CV]  bootstrap=False, max_depth=30, max_features=auto, min_samples_leaf=40, n_estimators=120, total=  17.1s\n",
      "[CV] bootstrap=False, max_depth=30, max_features=auto, min_samples_leaf=40, n_estimators=120 \n",
      "[CV]  bootstrap=False, max_depth=30, max_features=auto, min_samples_leaf=40, n_estimators=120, total=  18.7s\n",
      "[CV] bootstrap=False, max_depth=30, max_features=auto, min_samples_leaf=40, n_estimators=120 \n",
      "[CV]  bootstrap=False, max_depth=30, max_features=auto, min_samples_leaf=40, n_estimators=120, total=  16.9s\n",
      "[CV] bootstrap=False, max_depth=30, max_features=sqrt, min_samples_leaf=30, n_estimators=100 \n",
      "[CV]  bootstrap=False, max_depth=30, max_features=sqrt, min_samples_leaf=30, n_estimators=100, total=  15.6s\n",
      "[CV] bootstrap=False, max_depth=30, max_features=sqrt, min_samples_leaf=30, n_estimators=100 \n",
      "[CV]  bootstrap=False, max_depth=30, max_features=sqrt, min_samples_leaf=30, n_estimators=100, total=  14.1s\n",
      "[CV] bootstrap=False, max_depth=30, max_features=sqrt, min_samples_leaf=30, n_estimators=100 \n",
      "[CV]  bootstrap=False, max_depth=30, max_features=sqrt, min_samples_leaf=30, n_estimators=100, total=  14.7s\n",
      "[CV] bootstrap=False, max_depth=30, max_features=sqrt, min_samples_leaf=30, n_estimators=100 \n",
      "[CV]  bootstrap=False, max_depth=30, max_features=sqrt, min_samples_leaf=30, n_estimators=100, total=  15.2s\n",
      "[CV] bootstrap=False, max_depth=30, max_features=sqrt, min_samples_leaf=30, n_estimators=100 \n",
      "[CV]  bootstrap=False, max_depth=30, max_features=sqrt, min_samples_leaf=30, n_estimators=100, total=  14.2s\n",
      "[CV] bootstrap=False, max_depth=30, max_features=sqrt, min_samples_leaf=30, n_estimators=120 \n",
      "[CV]  bootstrap=False, max_depth=30, max_features=sqrt, min_samples_leaf=30, n_estimators=120, total=  17.8s\n",
      "[CV] bootstrap=False, max_depth=30, max_features=sqrt, min_samples_leaf=30, n_estimators=120 \n"
     ]
    },
    {
     "name": "stdout",
     "output_type": "stream",
     "text": [
      "[CV]  bootstrap=False, max_depth=30, max_features=sqrt, min_samples_leaf=30, n_estimators=120, total=  16.8s\n",
      "[CV] bootstrap=False, max_depth=30, max_features=sqrt, min_samples_leaf=30, n_estimators=120 \n",
      "[CV]  bootstrap=False, max_depth=30, max_features=sqrt, min_samples_leaf=30, n_estimators=120, total=  17.5s\n",
      "[CV] bootstrap=False, max_depth=30, max_features=sqrt, min_samples_leaf=30, n_estimators=120 \n",
      "[CV]  bootstrap=False, max_depth=30, max_features=sqrt, min_samples_leaf=30, n_estimators=120, total=  16.6s\n",
      "[CV] bootstrap=False, max_depth=30, max_features=sqrt, min_samples_leaf=30, n_estimators=120 \n",
      "[CV]  bootstrap=False, max_depth=30, max_features=sqrt, min_samples_leaf=30, n_estimators=120, total=  17.4s\n",
      "[CV] bootstrap=False, max_depth=30, max_features=sqrt, min_samples_leaf=40, n_estimators=100 \n",
      "[CV]  bootstrap=False, max_depth=30, max_features=sqrt, min_samples_leaf=40, n_estimators=100, total=  13.7s\n",
      "[CV] bootstrap=False, max_depth=30, max_features=sqrt, min_samples_leaf=40, n_estimators=100 \n",
      "[CV]  bootstrap=False, max_depth=30, max_features=sqrt, min_samples_leaf=40, n_estimators=100, total=  14.7s\n",
      "[CV] bootstrap=False, max_depth=30, max_features=sqrt, min_samples_leaf=40, n_estimators=100 \n",
      "[CV]  bootstrap=False, max_depth=30, max_features=sqrt, min_samples_leaf=40, n_estimators=100, total=  13.8s\n",
      "[CV] bootstrap=False, max_depth=30, max_features=sqrt, min_samples_leaf=40, n_estimators=100 \n",
      "[CV]  bootstrap=False, max_depth=30, max_features=sqrt, min_samples_leaf=40, n_estimators=100, total=  13.7s\n",
      "[CV] bootstrap=False, max_depth=30, max_features=sqrt, min_samples_leaf=40, n_estimators=100 \n",
      "[CV]  bootstrap=False, max_depth=30, max_features=sqrt, min_samples_leaf=40, n_estimators=100, total=  14.0s\n",
      "[CV] bootstrap=False, max_depth=30, max_features=sqrt, min_samples_leaf=40, n_estimators=120 \n",
      "[CV]  bootstrap=False, max_depth=30, max_features=sqrt, min_samples_leaf=40, n_estimators=120, total=  17.6s\n",
      "[CV] bootstrap=False, max_depth=30, max_features=sqrt, min_samples_leaf=40, n_estimators=120 \n",
      "[CV]  bootstrap=False, max_depth=30, max_features=sqrt, min_samples_leaf=40, n_estimators=120, total=  16.8s\n",
      "[CV] bootstrap=False, max_depth=30, max_features=sqrt, min_samples_leaf=40, n_estimators=120 \n",
      "[CV]  bootstrap=False, max_depth=30, max_features=sqrt, min_samples_leaf=40, n_estimators=120, total=  16.6s\n",
      "[CV] bootstrap=False, max_depth=30, max_features=sqrt, min_samples_leaf=40, n_estimators=120 \n",
      "[CV]  bootstrap=False, max_depth=30, max_features=sqrt, min_samples_leaf=40, n_estimators=120, total=  16.4s\n",
      "[CV] bootstrap=False, max_depth=30, max_features=sqrt, min_samples_leaf=40, n_estimators=120 \n",
      "[CV]  bootstrap=False, max_depth=30, max_features=sqrt, min_samples_leaf=40, n_estimators=120, total=  18.3s\n",
      "[CV] bootstrap=False, max_depth=30, max_features=None, min_samples_leaf=30, n_estimators=100 \n",
      "[CV]  bootstrap=False, max_depth=30, max_features=None, min_samples_leaf=30, n_estimators=100, total=  40.0s\n",
      "[CV] bootstrap=False, max_depth=30, max_features=None, min_samples_leaf=30, n_estimators=100 \n",
      "[CV]  bootstrap=False, max_depth=30, max_features=None, min_samples_leaf=30, n_estimators=100, total=  38.9s\n",
      "[CV] bootstrap=False, max_depth=30, max_features=None, min_samples_leaf=30, n_estimators=100 \n",
      "[CV]  bootstrap=False, max_depth=30, max_features=None, min_samples_leaf=30, n_estimators=100, total=  39.4s\n",
      "[CV] bootstrap=False, max_depth=30, max_features=None, min_samples_leaf=30, n_estimators=100 \n",
      "[CV]  bootstrap=False, max_depth=30, max_features=None, min_samples_leaf=30, n_estimators=100, total=  39.9s\n",
      "[CV] bootstrap=False, max_depth=30, max_features=None, min_samples_leaf=30, n_estimators=100 \n",
      "[CV]  bootstrap=False, max_depth=30, max_features=None, min_samples_leaf=30, n_estimators=100, total=  38.2s\n",
      "[CV] bootstrap=False, max_depth=30, max_features=None, min_samples_leaf=30, n_estimators=120 \n",
      "[CV]  bootstrap=False, max_depth=30, max_features=None, min_samples_leaf=30, n_estimators=120, total=  45.7s\n",
      "[CV] bootstrap=False, max_depth=30, max_features=None, min_samples_leaf=30, n_estimators=120 \n",
      "[CV]  bootstrap=False, max_depth=30, max_features=None, min_samples_leaf=30, n_estimators=120, total=  46.8s\n",
      "[CV] bootstrap=False, max_depth=30, max_features=None, min_samples_leaf=30, n_estimators=120 \n",
      "[CV]  bootstrap=False, max_depth=30, max_features=None, min_samples_leaf=30, n_estimators=120, total=  47.0s\n",
      "[CV] bootstrap=False, max_depth=30, max_features=None, min_samples_leaf=30, n_estimators=120 \n",
      "[CV]  bootstrap=False, max_depth=30, max_features=None, min_samples_leaf=30, n_estimators=120, total=  46.5s\n",
      "[CV] bootstrap=False, max_depth=30, max_features=None, min_samples_leaf=30, n_estimators=120 \n",
      "[CV]  bootstrap=False, max_depth=30, max_features=None, min_samples_leaf=30, n_estimators=120, total=  45.7s\n",
      "[CV] bootstrap=False, max_depth=30, max_features=None, min_samples_leaf=40, n_estimators=100 \n",
      "[CV]  bootstrap=False, max_depth=30, max_features=None, min_samples_leaf=40, n_estimators=100, total=  42.9s\n",
      "[CV] bootstrap=False, max_depth=30, max_features=None, min_samples_leaf=40, n_estimators=100 \n",
      "[CV]  bootstrap=False, max_depth=30, max_features=None, min_samples_leaf=40, n_estimators=100, total=  48.8s\n",
      "[CV] bootstrap=False, max_depth=30, max_features=None, min_samples_leaf=40, n_estimators=100 \n",
      "[CV]  bootstrap=False, max_depth=30, max_features=None, min_samples_leaf=40, n_estimators=100, total=  46.6s\n",
      "[CV] bootstrap=False, max_depth=30, max_features=None, min_samples_leaf=40, n_estimators=100 \n",
      "[CV]  bootstrap=False, max_depth=30, max_features=None, min_samples_leaf=40, n_estimators=100, total=  46.6s\n",
      "[CV] bootstrap=False, max_depth=30, max_features=None, min_samples_leaf=40, n_estimators=100 \n",
      "[CV]  bootstrap=False, max_depth=30, max_features=None, min_samples_leaf=40, n_estimators=100, total=  49.4s\n",
      "[CV] bootstrap=False, max_depth=30, max_features=None, min_samples_leaf=40, n_estimators=120 \n",
      "[CV]  bootstrap=False, max_depth=30, max_features=None, min_samples_leaf=40, n_estimators=120, total= 1.1min\n",
      "[CV] bootstrap=False, max_depth=30, max_features=None, min_samples_leaf=40, n_estimators=120 \n",
      "[CV]  bootstrap=False, max_depth=30, max_features=None, min_samples_leaf=40, n_estimators=120, total= 1.0min\n",
      "[CV] bootstrap=False, max_depth=30, max_features=None, min_samples_leaf=40, n_estimators=120 \n",
      "[CV]  bootstrap=False, max_depth=30, max_features=None, min_samples_leaf=40, n_estimators=120, total=  54.6s\n",
      "[CV] bootstrap=False, max_depth=30, max_features=None, min_samples_leaf=40, n_estimators=120 \n",
      "[CV]  bootstrap=False, max_depth=30, max_features=None, min_samples_leaf=40, n_estimators=120, total=  55.1s\n",
      "[CV] bootstrap=False, max_depth=30, max_features=None, min_samples_leaf=40, n_estimators=120 \n",
      "[CV]  bootstrap=False, max_depth=30, max_features=None, min_samples_leaf=40, n_estimators=120, total= 1.0min\n",
      "[CV] bootstrap=False, max_depth=60, max_features=auto, min_samples_leaf=30, n_estimators=100 \n",
      "[CV]  bootstrap=False, max_depth=60, max_features=auto, min_samples_leaf=30, n_estimators=100, total=  20.4s\n",
      "[CV] bootstrap=False, max_depth=60, max_features=auto, min_samples_leaf=30, n_estimators=100 \n",
      "[CV]  bootstrap=False, max_depth=60, max_features=auto, min_samples_leaf=30, n_estimators=100, total=  14.8s\n",
      "[CV] bootstrap=False, max_depth=60, max_features=auto, min_samples_leaf=30, n_estimators=100 \n",
      "[CV]  bootstrap=False, max_depth=60, max_features=auto, min_samples_leaf=30, n_estimators=100, total=  14.7s\n",
      "[CV] bootstrap=False, max_depth=60, max_features=auto, min_samples_leaf=30, n_estimators=100 \n",
      "[CV]  bootstrap=False, max_depth=60, max_features=auto, min_samples_leaf=30, n_estimators=100, total=  14.5s\n",
      "[CV] bootstrap=False, max_depth=60, max_features=auto, min_samples_leaf=30, n_estimators=100 \n",
      "[CV]  bootstrap=False, max_depth=60, max_features=auto, min_samples_leaf=30, n_estimators=100, total=  14.5s\n",
      "[CV] bootstrap=False, max_depth=60, max_features=auto, min_samples_leaf=30, n_estimators=120 \n",
      "[CV]  bootstrap=False, max_depth=60, max_features=auto, min_samples_leaf=30, n_estimators=120, total=  17.8s\n",
      "[CV] bootstrap=False, max_depth=60, max_features=auto, min_samples_leaf=30, n_estimators=120 \n",
      "[CV]  bootstrap=False, max_depth=60, max_features=auto, min_samples_leaf=30, n_estimators=120, total=  16.6s\n",
      "[CV] bootstrap=False, max_depth=60, max_features=auto, min_samples_leaf=30, n_estimators=120 \n"
     ]
    },
    {
     "name": "stdout",
     "output_type": "stream",
     "text": [
      "[CV]  bootstrap=False, max_depth=60, max_features=auto, min_samples_leaf=30, n_estimators=120, total=  17.1s\n",
      "[CV] bootstrap=False, max_depth=60, max_features=auto, min_samples_leaf=30, n_estimators=120 \n",
      "[CV]  bootstrap=False, max_depth=60, max_features=auto, min_samples_leaf=30, n_estimators=120, total=  16.6s\n",
      "[CV] bootstrap=False, max_depth=60, max_features=auto, min_samples_leaf=30, n_estimators=120 \n",
      "[CV]  bootstrap=False, max_depth=60, max_features=auto, min_samples_leaf=30, n_estimators=120, total=  17.6s\n",
      "[CV] bootstrap=False, max_depth=60, max_features=auto, min_samples_leaf=40, n_estimators=100 \n",
      "[CV]  bootstrap=False, max_depth=60, max_features=auto, min_samples_leaf=40, n_estimators=100, total=  14.0s\n",
      "[CV] bootstrap=False, max_depth=60, max_features=auto, min_samples_leaf=40, n_estimators=100 \n",
      "[CV]  bootstrap=False, max_depth=60, max_features=auto, min_samples_leaf=40, n_estimators=100, total=  13.8s\n",
      "[CV] bootstrap=False, max_depth=60, max_features=auto, min_samples_leaf=40, n_estimators=100 \n",
      "[CV]  bootstrap=False, max_depth=60, max_features=auto, min_samples_leaf=40, n_estimators=100, total=  13.7s\n",
      "[CV] bootstrap=False, max_depth=60, max_features=auto, min_samples_leaf=40, n_estimators=100 \n",
      "[CV]  bootstrap=False, max_depth=60, max_features=auto, min_samples_leaf=40, n_estimators=100, total=  14.9s\n",
      "[CV] bootstrap=False, max_depth=60, max_features=auto, min_samples_leaf=40, n_estimators=100 \n",
      "[CV]  bootstrap=False, max_depth=60, max_features=auto, min_samples_leaf=40, n_estimators=100, total=  13.9s\n",
      "[CV] bootstrap=False, max_depth=60, max_features=auto, min_samples_leaf=40, n_estimators=120 \n",
      "[CV]  bootstrap=False, max_depth=60, max_features=auto, min_samples_leaf=40, n_estimators=120, total=  17.3s\n",
      "[CV] bootstrap=False, max_depth=60, max_features=auto, min_samples_leaf=40, n_estimators=120 \n",
      "[CV]  bootstrap=False, max_depth=60, max_features=auto, min_samples_leaf=40, n_estimators=120, total=  16.7s\n",
      "[CV] bootstrap=False, max_depth=60, max_features=auto, min_samples_leaf=40, n_estimators=120 \n",
      "[CV]  bootstrap=False, max_depth=60, max_features=auto, min_samples_leaf=40, n_estimators=120, total=  17.5s\n",
      "[CV] bootstrap=False, max_depth=60, max_features=auto, min_samples_leaf=40, n_estimators=120 \n",
      "[CV]  bootstrap=False, max_depth=60, max_features=auto, min_samples_leaf=40, n_estimators=120, total=  16.6s\n",
      "[CV] bootstrap=False, max_depth=60, max_features=auto, min_samples_leaf=40, n_estimators=120 \n",
      "[CV]  bootstrap=False, max_depth=60, max_features=auto, min_samples_leaf=40, n_estimators=120, total=  17.1s\n",
      "[CV] bootstrap=False, max_depth=60, max_features=sqrt, min_samples_leaf=30, n_estimators=100 \n",
      "[CV]  bootstrap=False, max_depth=60, max_features=sqrt, min_samples_leaf=30, n_estimators=100, total=  16.0s\n",
      "[CV] bootstrap=False, max_depth=60, max_features=sqrt, min_samples_leaf=30, n_estimators=100 \n",
      "[CV]  bootstrap=False, max_depth=60, max_features=sqrt, min_samples_leaf=30, n_estimators=100, total=  15.1s\n",
      "[CV] bootstrap=False, max_depth=60, max_features=sqrt, min_samples_leaf=30, n_estimators=100 \n",
      "[CV]  bootstrap=False, max_depth=60, max_features=sqrt, min_samples_leaf=30, n_estimators=100, total=  14.1s\n",
      "[CV] bootstrap=False, max_depth=60, max_features=sqrt, min_samples_leaf=30, n_estimators=100 \n",
      "[CV]  bootstrap=False, max_depth=60, max_features=sqrt, min_samples_leaf=30, n_estimators=100, total=  14.0s\n",
      "[CV] bootstrap=False, max_depth=60, max_features=sqrt, min_samples_leaf=30, n_estimators=100 \n",
      "[CV]  bootstrap=False, max_depth=60, max_features=sqrt, min_samples_leaf=30, n_estimators=100, total=  14.3s\n",
      "[CV] bootstrap=False, max_depth=60, max_features=sqrt, min_samples_leaf=30, n_estimators=120 \n",
      "[CV]  bootstrap=False, max_depth=60, max_features=sqrt, min_samples_leaf=30, n_estimators=120, total=  16.5s\n",
      "[CV] bootstrap=False, max_depth=60, max_features=sqrt, min_samples_leaf=30, n_estimators=120 \n",
      "[CV]  bootstrap=False, max_depth=60, max_features=sqrt, min_samples_leaf=30, n_estimators=120, total=  17.9s\n",
      "[CV] bootstrap=False, max_depth=60, max_features=sqrt, min_samples_leaf=30, n_estimators=120 \n",
      "[CV]  bootstrap=False, max_depth=60, max_features=sqrt, min_samples_leaf=30, n_estimators=120, total=  16.5s\n",
      "[CV] bootstrap=False, max_depth=60, max_features=sqrt, min_samples_leaf=30, n_estimators=120 \n",
      "[CV]  bootstrap=False, max_depth=60, max_features=sqrt, min_samples_leaf=30, n_estimators=120, total=  16.8s\n",
      "[CV] bootstrap=False, max_depth=60, max_features=sqrt, min_samples_leaf=30, n_estimators=120 \n",
      "[CV]  bootstrap=False, max_depth=60, max_features=sqrt, min_samples_leaf=30, n_estimators=120, total=  17.4s\n",
      "[CV] bootstrap=False, max_depth=60, max_features=sqrt, min_samples_leaf=40, n_estimators=100 \n",
      "[CV]  bootstrap=False, max_depth=60, max_features=sqrt, min_samples_leaf=40, n_estimators=100, total=  15.0s\n",
      "[CV] bootstrap=False, max_depth=60, max_features=sqrt, min_samples_leaf=40, n_estimators=100 \n",
      "[CV]  bootstrap=False, max_depth=60, max_features=sqrt, min_samples_leaf=40, n_estimators=100, total=  14.3s\n",
      "[CV] bootstrap=False, max_depth=60, max_features=sqrt, min_samples_leaf=40, n_estimators=100 \n",
      "[CV]  bootstrap=False, max_depth=60, max_features=sqrt, min_samples_leaf=40, n_estimators=100, total=  13.8s\n",
      "[CV] bootstrap=False, max_depth=60, max_features=sqrt, min_samples_leaf=40, n_estimators=100 \n",
      "[CV]  bootstrap=False, max_depth=60, max_features=sqrt, min_samples_leaf=40, n_estimators=100, total=  13.8s\n",
      "[CV] bootstrap=False, max_depth=60, max_features=sqrt, min_samples_leaf=40, n_estimators=100 \n",
      "[CV]  bootstrap=False, max_depth=60, max_features=sqrt, min_samples_leaf=40, n_estimators=100, total=  15.0s\n",
      "[CV] bootstrap=False, max_depth=60, max_features=sqrt, min_samples_leaf=40, n_estimators=120 \n",
      "[CV]  bootstrap=False, max_depth=60, max_features=sqrt, min_samples_leaf=40, n_estimators=120, total=  17.8s\n",
      "[CV] bootstrap=False, max_depth=60, max_features=sqrt, min_samples_leaf=40, n_estimators=120 \n",
      "[CV]  bootstrap=False, max_depth=60, max_features=sqrt, min_samples_leaf=40, n_estimators=120, total=  16.5s\n",
      "[CV] bootstrap=False, max_depth=60, max_features=sqrt, min_samples_leaf=40, n_estimators=120 \n",
      "[CV]  bootstrap=False, max_depth=60, max_features=sqrt, min_samples_leaf=40, n_estimators=120, total=  17.0s\n",
      "[CV] bootstrap=False, max_depth=60, max_features=sqrt, min_samples_leaf=40, n_estimators=120 \n",
      "[CV]  bootstrap=False, max_depth=60, max_features=sqrt, min_samples_leaf=40, n_estimators=120, total=  17.5s\n",
      "[CV] bootstrap=False, max_depth=60, max_features=sqrt, min_samples_leaf=40, n_estimators=120 \n",
      "[CV]  bootstrap=False, max_depth=60, max_features=sqrt, min_samples_leaf=40, n_estimators=120, total=  16.8s\n",
      "[CV] bootstrap=False, max_depth=60, max_features=None, min_samples_leaf=30, n_estimators=100 \n",
      "[CV]  bootstrap=False, max_depth=60, max_features=None, min_samples_leaf=30, n_estimators=100, total=  38.6s\n",
      "[CV] bootstrap=False, max_depth=60, max_features=None, min_samples_leaf=30, n_estimators=100 \n",
      "[CV]  bootstrap=False, max_depth=60, max_features=None, min_samples_leaf=30, n_estimators=100, total=  41.5s\n",
      "[CV] bootstrap=False, max_depth=60, max_features=None, min_samples_leaf=30, n_estimators=100 \n",
      "[CV]  bootstrap=False, max_depth=60, max_features=None, min_samples_leaf=30, n_estimators=100, total=  43.2s\n",
      "[CV] bootstrap=False, max_depth=60, max_features=None, min_samples_leaf=30, n_estimators=100 \n",
      "[CV]  bootstrap=False, max_depth=60, max_features=None, min_samples_leaf=30, n_estimators=100, total=  40.7s\n",
      "[CV] bootstrap=False, max_depth=60, max_features=None, min_samples_leaf=30, n_estimators=100 \n",
      "[CV]  bootstrap=False, max_depth=60, max_features=None, min_samples_leaf=30, n_estimators=100, total=  42.2s\n",
      "[CV] bootstrap=False, max_depth=60, max_features=None, min_samples_leaf=30, n_estimators=120 \n",
      "[CV]  bootstrap=False, max_depth=60, max_features=None, min_samples_leaf=30, n_estimators=120, total=  51.9s\n",
      "[CV] bootstrap=False, max_depth=60, max_features=None, min_samples_leaf=30, n_estimators=120 \n",
      "[CV]  bootstrap=False, max_depth=60, max_features=None, min_samples_leaf=30, n_estimators=120, total=  47.2s\n",
      "[CV] bootstrap=False, max_depth=60, max_features=None, min_samples_leaf=30, n_estimators=120 \n",
      "[CV]  bootstrap=False, max_depth=60, max_features=None, min_samples_leaf=30, n_estimators=120, total=  49.6s\n",
      "[CV] bootstrap=False, max_depth=60, max_features=None, min_samples_leaf=30, n_estimators=120 \n"
     ]
    },
    {
     "name": "stdout",
     "output_type": "stream",
     "text": [
      "[CV]  bootstrap=False, max_depth=60, max_features=None, min_samples_leaf=30, n_estimators=120, total=  53.4s\n",
      "[CV] bootstrap=False, max_depth=60, max_features=None, min_samples_leaf=30, n_estimators=120 \n",
      "[CV]  bootstrap=False, max_depth=60, max_features=None, min_samples_leaf=30, n_estimators=120, total=  47.7s\n",
      "[CV] bootstrap=False, max_depth=60, max_features=None, min_samples_leaf=40, n_estimators=100 \n",
      "[CV]  bootstrap=False, max_depth=60, max_features=None, min_samples_leaf=40, n_estimators=100, total=  40.5s\n",
      "[CV] bootstrap=False, max_depth=60, max_features=None, min_samples_leaf=40, n_estimators=100 \n",
      "[CV]  bootstrap=False, max_depth=60, max_features=None, min_samples_leaf=40, n_estimators=100, total=  39.7s\n",
      "[CV] bootstrap=False, max_depth=60, max_features=None, min_samples_leaf=40, n_estimators=100 \n",
      "[CV]  bootstrap=False, max_depth=60, max_features=None, min_samples_leaf=40, n_estimators=100, total=  39.6s\n",
      "[CV] bootstrap=False, max_depth=60, max_features=None, min_samples_leaf=40, n_estimators=100 \n",
      "[CV]  bootstrap=False, max_depth=60, max_features=None, min_samples_leaf=40, n_estimators=100, total=  39.6s\n",
      "[CV] bootstrap=False, max_depth=60, max_features=None, min_samples_leaf=40, n_estimators=100 \n",
      "[CV]  bootstrap=False, max_depth=60, max_features=None, min_samples_leaf=40, n_estimators=100, total=  52.7s\n",
      "[CV] bootstrap=False, max_depth=60, max_features=None, min_samples_leaf=40, n_estimators=120 \n",
      "[CV]  bootstrap=False, max_depth=60, max_features=None, min_samples_leaf=40, n_estimators=120, total= 1.0min\n",
      "[CV] bootstrap=False, max_depth=60, max_features=None, min_samples_leaf=40, n_estimators=120 \n",
      "[CV]  bootstrap=False, max_depth=60, max_features=None, min_samples_leaf=40, n_estimators=120, total= 1.1min\n",
      "[CV] bootstrap=False, max_depth=60, max_features=None, min_samples_leaf=40, n_estimators=120 \n",
      "[CV]  bootstrap=False, max_depth=60, max_features=None, min_samples_leaf=40, n_estimators=120, total=  54.0s\n",
      "[CV] bootstrap=False, max_depth=60, max_features=None, min_samples_leaf=40, n_estimators=120 \n",
      "[CV]  bootstrap=False, max_depth=60, max_features=None, min_samples_leaf=40, n_estimators=120, total=  57.2s\n",
      "[CV] bootstrap=False, max_depth=60, max_features=None, min_samples_leaf=40, n_estimators=120 \n",
      "[CV]  bootstrap=False, max_depth=60, max_features=None, min_samples_leaf=40, n_estimators=120, total=  52.6s\n",
      "[CV] bootstrap=False, max_depth=90, max_features=auto, min_samples_leaf=30, n_estimators=100 \n",
      "[CV]  bootstrap=False, max_depth=90, max_features=auto, min_samples_leaf=30, n_estimators=100, total=  17.2s\n",
      "[CV] bootstrap=False, max_depth=90, max_features=auto, min_samples_leaf=30, n_estimators=100 \n",
      "[CV]  bootstrap=False, max_depth=90, max_features=auto, min_samples_leaf=30, n_estimators=100, total=  16.5s\n",
      "[CV] bootstrap=False, max_depth=90, max_features=auto, min_samples_leaf=30, n_estimators=100 \n",
      "[CV]  bootstrap=False, max_depth=90, max_features=auto, min_samples_leaf=30, n_estimators=100, total=  15.9s\n",
      "[CV] bootstrap=False, max_depth=90, max_features=auto, min_samples_leaf=30, n_estimators=100 \n",
      "[CV]  bootstrap=False, max_depth=90, max_features=auto, min_samples_leaf=30, n_estimators=100, total=  16.1s\n",
      "[CV] bootstrap=False, max_depth=90, max_features=auto, min_samples_leaf=30, n_estimators=100 \n",
      "[CV]  bootstrap=False, max_depth=90, max_features=auto, min_samples_leaf=30, n_estimators=100, total=  17.1s\n",
      "[CV] bootstrap=False, max_depth=90, max_features=auto, min_samples_leaf=30, n_estimators=120 \n",
      "[CV]  bootstrap=False, max_depth=90, max_features=auto, min_samples_leaf=30, n_estimators=120, total=  19.6s\n",
      "[CV] bootstrap=False, max_depth=90, max_features=auto, min_samples_leaf=30, n_estimators=120 \n",
      "[CV]  bootstrap=False, max_depth=90, max_features=auto, min_samples_leaf=30, n_estimators=120, total=  19.5s\n",
      "[CV] bootstrap=False, max_depth=90, max_features=auto, min_samples_leaf=30, n_estimators=120 \n",
      "[CV]  bootstrap=False, max_depth=90, max_features=auto, min_samples_leaf=30, n_estimators=120, total=  20.3s\n",
      "[CV] bootstrap=False, max_depth=90, max_features=auto, min_samples_leaf=30, n_estimators=120 \n",
      "[CV]  bootstrap=False, max_depth=90, max_features=auto, min_samples_leaf=30, n_estimators=120, total=  21.1s\n",
      "[CV] bootstrap=False, max_depth=90, max_features=auto, min_samples_leaf=30, n_estimators=120 \n",
      "[CV]  bootstrap=False, max_depth=90, max_features=auto, min_samples_leaf=30, n_estimators=120, total=  19.3s\n",
      "[CV] bootstrap=False, max_depth=90, max_features=auto, min_samples_leaf=40, n_estimators=100 \n",
      "[CV]  bootstrap=False, max_depth=90, max_features=auto, min_samples_leaf=40, n_estimators=100, total=  16.7s\n",
      "[CV] bootstrap=False, max_depth=90, max_features=auto, min_samples_leaf=40, n_estimators=100 \n",
      "[CV]  bootstrap=False, max_depth=90, max_features=auto, min_samples_leaf=40, n_estimators=100, total=  17.1s\n",
      "[CV] bootstrap=False, max_depth=90, max_features=auto, min_samples_leaf=40, n_estimators=100 \n",
      "[CV]  bootstrap=False, max_depth=90, max_features=auto, min_samples_leaf=40, n_estimators=100, total=  15.9s\n",
      "[CV] bootstrap=False, max_depth=90, max_features=auto, min_samples_leaf=40, n_estimators=100 \n",
      "[CV]  bootstrap=False, max_depth=90, max_features=auto, min_samples_leaf=40, n_estimators=100, total=  20.3s\n",
      "[CV] bootstrap=False, max_depth=90, max_features=auto, min_samples_leaf=40, n_estimators=100 \n",
      "[CV]  bootstrap=False, max_depth=90, max_features=auto, min_samples_leaf=40, n_estimators=100, total=  20.0s\n",
      "[CV] bootstrap=False, max_depth=90, max_features=auto, min_samples_leaf=40, n_estimators=120 \n",
      "[CV]  bootstrap=False, max_depth=90, max_features=auto, min_samples_leaf=40, n_estimators=120, total=  23.1s\n",
      "[CV] bootstrap=False, max_depth=90, max_features=auto, min_samples_leaf=40, n_estimators=120 \n",
      "[CV]  bootstrap=False, max_depth=90, max_features=auto, min_samples_leaf=40, n_estimators=120, total=  21.3s\n",
      "[CV] bootstrap=False, max_depth=90, max_features=auto, min_samples_leaf=40, n_estimators=120 \n",
      "[CV]  bootstrap=False, max_depth=90, max_features=auto, min_samples_leaf=40, n_estimators=120, total=  19.8s\n",
      "[CV] bootstrap=False, max_depth=90, max_features=auto, min_samples_leaf=40, n_estimators=120 \n",
      "[CV]  bootstrap=False, max_depth=90, max_features=auto, min_samples_leaf=40, n_estimators=120, total=  18.8s\n",
      "[CV] bootstrap=False, max_depth=90, max_features=auto, min_samples_leaf=40, n_estimators=120 \n",
      "[CV]  bootstrap=False, max_depth=90, max_features=auto, min_samples_leaf=40, n_estimators=120, total=  18.9s\n",
      "[CV] bootstrap=False, max_depth=90, max_features=sqrt, min_samples_leaf=30, n_estimators=100 \n",
      "[CV]  bootstrap=False, max_depth=90, max_features=sqrt, min_samples_leaf=30, n_estimators=100, total=  14.8s\n",
      "[CV] bootstrap=False, max_depth=90, max_features=sqrt, min_samples_leaf=30, n_estimators=100 \n",
      "[CV]  bootstrap=False, max_depth=90, max_features=sqrt, min_samples_leaf=30, n_estimators=100, total=  14.5s\n",
      "[CV] bootstrap=False, max_depth=90, max_features=sqrt, min_samples_leaf=30, n_estimators=100 \n",
      "[CV]  bootstrap=False, max_depth=90, max_features=sqrt, min_samples_leaf=30, n_estimators=100, total=  14.1s\n",
      "[CV] bootstrap=False, max_depth=90, max_features=sqrt, min_samples_leaf=30, n_estimators=100 \n",
      "[CV]  bootstrap=False, max_depth=90, max_features=sqrt, min_samples_leaf=30, n_estimators=100, total=  13.7s\n",
      "[CV] bootstrap=False, max_depth=90, max_features=sqrt, min_samples_leaf=30, n_estimators=100 \n",
      "[CV]  bootstrap=False, max_depth=90, max_features=sqrt, min_samples_leaf=30, n_estimators=100, total=  14.3s\n",
      "[CV] bootstrap=False, max_depth=90, max_features=sqrt, min_samples_leaf=30, n_estimators=120 \n",
      "[CV]  bootstrap=False, max_depth=90, max_features=sqrt, min_samples_leaf=30, n_estimators=120, total=  21.7s\n",
      "[CV] bootstrap=False, max_depth=90, max_features=sqrt, min_samples_leaf=30, n_estimators=120 \n",
      "[CV]  bootstrap=False, max_depth=90, max_features=sqrt, min_samples_leaf=30, n_estimators=120, total=  20.3s\n",
      "[CV] bootstrap=False, max_depth=90, max_features=sqrt, min_samples_leaf=30, n_estimators=120 \n",
      "[CV]  bootstrap=False, max_depth=90, max_features=sqrt, min_samples_leaf=30, n_estimators=120, total=  22.2s\n",
      "[CV] bootstrap=False, max_depth=90, max_features=sqrt, min_samples_leaf=30, n_estimators=120 \n",
      "[CV]  bootstrap=False, max_depth=90, max_features=sqrt, min_samples_leaf=30, n_estimators=120, total=  19.0s\n",
      "[CV] bootstrap=False, max_depth=90, max_features=sqrt, min_samples_leaf=30, n_estimators=120 \n"
     ]
    },
    {
     "name": "stdout",
     "output_type": "stream",
     "text": [
      "[CV]  bootstrap=False, max_depth=90, max_features=sqrt, min_samples_leaf=30, n_estimators=120, total=  20.0s\n",
      "[CV] bootstrap=False, max_depth=90, max_features=sqrt, min_samples_leaf=40, n_estimators=100 \n",
      "[CV]  bootstrap=False, max_depth=90, max_features=sqrt, min_samples_leaf=40, n_estimators=100, total=  21.0s\n",
      "[CV] bootstrap=False, max_depth=90, max_features=sqrt, min_samples_leaf=40, n_estimators=100 \n",
      "[CV]  bootstrap=False, max_depth=90, max_features=sqrt, min_samples_leaf=40, n_estimators=100, total=  15.6s\n",
      "[CV] bootstrap=False, max_depth=90, max_features=sqrt, min_samples_leaf=40, n_estimators=100 \n",
      "[CV]  bootstrap=False, max_depth=90, max_features=sqrt, min_samples_leaf=40, n_estimators=100, total=  21.4s\n",
      "[CV] bootstrap=False, max_depth=90, max_features=sqrt, min_samples_leaf=40, n_estimators=100 \n",
      "[CV]  bootstrap=False, max_depth=90, max_features=sqrt, min_samples_leaf=40, n_estimators=100, total=  17.2s\n",
      "[CV] bootstrap=False, max_depth=90, max_features=sqrt, min_samples_leaf=40, n_estimators=100 \n",
      "[CV]  bootstrap=False, max_depth=90, max_features=sqrt, min_samples_leaf=40, n_estimators=100, total=  18.4s\n",
      "[CV] bootstrap=False, max_depth=90, max_features=sqrt, min_samples_leaf=40, n_estimators=120 \n",
      "[CV]  bootstrap=False, max_depth=90, max_features=sqrt, min_samples_leaf=40, n_estimators=120, total=  23.8s\n",
      "[CV] bootstrap=False, max_depth=90, max_features=sqrt, min_samples_leaf=40, n_estimators=120 \n",
      "[CV]  bootstrap=False, max_depth=90, max_features=sqrt, min_samples_leaf=40, n_estimators=120, total=  25.8s\n",
      "[CV] bootstrap=False, max_depth=90, max_features=sqrt, min_samples_leaf=40, n_estimators=120 \n",
      "[CV]  bootstrap=False, max_depth=90, max_features=sqrt, min_samples_leaf=40, n_estimators=120, total=  19.6s\n",
      "[CV] bootstrap=False, max_depth=90, max_features=sqrt, min_samples_leaf=40, n_estimators=120 \n",
      "[CV]  bootstrap=False, max_depth=90, max_features=sqrt, min_samples_leaf=40, n_estimators=120, total=  24.4s\n",
      "[CV] bootstrap=False, max_depth=90, max_features=sqrt, min_samples_leaf=40, n_estimators=120 \n",
      "[CV]  bootstrap=False, max_depth=90, max_features=sqrt, min_samples_leaf=40, n_estimators=120, total=  19.0s\n",
      "[CV] bootstrap=False, max_depth=90, max_features=None, min_samples_leaf=30, n_estimators=100 \n",
      "[CV]  bootstrap=False, max_depth=90, max_features=None, min_samples_leaf=30, n_estimators=100, total=  45.8s\n",
      "[CV] bootstrap=False, max_depth=90, max_features=None, min_samples_leaf=30, n_estimators=100 \n",
      "[CV]  bootstrap=False, max_depth=90, max_features=None, min_samples_leaf=30, n_estimators=100, total=  46.2s\n",
      "[CV] bootstrap=False, max_depth=90, max_features=None, min_samples_leaf=30, n_estimators=100 \n",
      "[CV]  bootstrap=False, max_depth=90, max_features=None, min_samples_leaf=30, n_estimators=100, total=  43.7s\n",
      "[CV] bootstrap=False, max_depth=90, max_features=None, min_samples_leaf=30, n_estimators=100 \n",
      "[CV]  bootstrap=False, max_depth=90, max_features=None, min_samples_leaf=30, n_estimators=100, total=  51.0s\n",
      "[CV] bootstrap=False, max_depth=90, max_features=None, min_samples_leaf=30, n_estimators=100 \n",
      "[CV]  bootstrap=False, max_depth=90, max_features=None, min_samples_leaf=30, n_estimators=100, total=  42.6s\n",
      "[CV] bootstrap=False, max_depth=90, max_features=None, min_samples_leaf=30, n_estimators=120 \n",
      "[CV]  bootstrap=False, max_depth=90, max_features=None, min_samples_leaf=30, n_estimators=120, total= 1.1min\n",
      "[CV] bootstrap=False, max_depth=90, max_features=None, min_samples_leaf=30, n_estimators=120 \n",
      "[CV]  bootstrap=False, max_depth=90, max_features=None, min_samples_leaf=30, n_estimators=120, total=  57.6s\n",
      "[CV] bootstrap=False, max_depth=90, max_features=None, min_samples_leaf=30, n_estimators=120 \n",
      "[CV]  bootstrap=False, max_depth=90, max_features=None, min_samples_leaf=30, n_estimators=120, total=  56.9s\n",
      "[CV] bootstrap=False, max_depth=90, max_features=None, min_samples_leaf=30, n_estimators=120 \n",
      "[CV]  bootstrap=False, max_depth=90, max_features=None, min_samples_leaf=30, n_estimators=120, total=  47.5s\n",
      "[CV] bootstrap=False, max_depth=90, max_features=None, min_samples_leaf=30, n_estimators=120 \n",
      "[CV]  bootstrap=False, max_depth=90, max_features=None, min_samples_leaf=30, n_estimators=120, total=  50.6s\n",
      "[CV] bootstrap=False, max_depth=90, max_features=None, min_samples_leaf=40, n_estimators=100 \n",
      "[CV]  bootstrap=False, max_depth=90, max_features=None, min_samples_leaf=40, n_estimators=100, total=  42.5s\n",
      "[CV] bootstrap=False, max_depth=90, max_features=None, min_samples_leaf=40, n_estimators=100 \n",
      "[CV]  bootstrap=False, max_depth=90, max_features=None, min_samples_leaf=40, n_estimators=100, total=  42.5s\n",
      "[CV] bootstrap=False, max_depth=90, max_features=None, min_samples_leaf=40, n_estimators=100 \n",
      "[CV]  bootstrap=False, max_depth=90, max_features=None, min_samples_leaf=40, n_estimators=100, total=  43.1s\n",
      "[CV] bootstrap=False, max_depth=90, max_features=None, min_samples_leaf=40, n_estimators=100 \n",
      "[CV]  bootstrap=False, max_depth=90, max_features=None, min_samples_leaf=40, n_estimators=100, total=  42.9s\n",
      "[CV] bootstrap=False, max_depth=90, max_features=None, min_samples_leaf=40, n_estimators=100 \n",
      "[CV]  bootstrap=False, max_depth=90, max_features=None, min_samples_leaf=40, n_estimators=100, total=  55.6s\n",
      "[CV] bootstrap=False, max_depth=90, max_features=None, min_samples_leaf=40, n_estimators=120 \n",
      "[CV]  bootstrap=False, max_depth=90, max_features=None, min_samples_leaf=40, n_estimators=120, total=  55.0s\n",
      "[CV] bootstrap=False, max_depth=90, max_features=None, min_samples_leaf=40, n_estimators=120 \n",
      "[CV]  bootstrap=False, max_depth=90, max_features=None, min_samples_leaf=40, n_estimators=120, total=  55.7s\n",
      "[CV] bootstrap=False, max_depth=90, max_features=None, min_samples_leaf=40, n_estimators=120 \n",
      "[CV]  bootstrap=False, max_depth=90, max_features=None, min_samples_leaf=40, n_estimators=120, total=  56.2s\n",
      "[CV] bootstrap=False, max_depth=90, max_features=None, min_samples_leaf=40, n_estimators=120 \n",
      "[CV]  bootstrap=False, max_depth=90, max_features=None, min_samples_leaf=40, n_estimators=120, total=  54.9s\n",
      "[CV] bootstrap=False, max_depth=90, max_features=None, min_samples_leaf=40, n_estimators=120 \n",
      "[CV]  bootstrap=False, max_depth=90, max_features=None, min_samples_leaf=40, n_estimators=120, total=  56.7s\n"
     ]
    },
    {
     "name": "stderr",
     "output_type": "stream",
     "text": [
      "[Parallel(n_jobs=1)]: Done 360 out of 360 | elapsed: 151.6min finished\n"
     ]
    },
    {
     "name": "stdout",
     "output_type": "stream",
     "text": [
      "Wall time: 2h 32min 1s\n"
     ]
    },
    {
     "data": {
      "text/plain": [
       "GridSearchCV(cv=5, estimator=RandomForestClassifier(),\n",
       "             param_grid={'bootstrap': [True, False], 'max_depth': [30, 60, 90],\n",
       "                         'max_features': ['auto', 'sqrt', None],\n",
       "                         'min_samples_leaf': [30, 40],\n",
       "                         'n_estimators': [100, 120]},\n",
       "             verbose=2)"
      ]
     },
     "execution_count": 71,
     "metadata": {},
     "output_type": "execute_result"
    }
   ],
   "source": [
    "params  = {'bootstrap': [True, False],\n",
    " 'max_depth': [30, 60, 90],\n",
    " 'max_features': ['auto', 'sqrt', None],\n",
    " 'min_samples_leaf': [30, 40],\n",
    " 'n_estimators': [100, 120]}\n",
    "\n",
    "gridsearch_rf = GridSearchCV(param_grid = params, cv = 5, estimator = random_forest, verbose = 2)\n",
    "%time gridsearch_rf.fit(X_train, Y_train)"
   ]
  },
  {
   "cell_type": "code",
   "execution_count": 72,
   "metadata": {},
   "outputs": [
    {
     "data": {
      "text/plain": [
       "{'bootstrap': True,\n",
       " 'max_depth': 90,\n",
       " 'max_features': 'sqrt',\n",
       " 'min_samples_leaf': 30,\n",
       " 'n_estimators': 120}"
      ]
     },
     "execution_count": 72,
     "metadata": {},
     "output_type": "execute_result"
    }
   ],
   "source": [
    "# best set of parameters\n",
    "gridsearch_rf.best_params_"
   ]
  },
  {
   "cell_type": "code",
   "execution_count": 75,
   "metadata": {},
   "outputs": [],
   "source": [
    "grid_pred_rf_train = gridsearch_rf.best_estimator_.predict(X_train)"
   ]
  },
  {
   "cell_type": "code",
   "execution_count": 73,
   "metadata": {},
   "outputs": [],
   "source": [
    "grid_pred_rf_test = gridsearch_rf.best_estimator_.predict(X_test)"
   ]
  },
  {
   "cell_type": "code",
   "execution_count": 76,
   "metadata": {},
   "outputs": [
    {
     "data": {
      "text/plain": [
       "0.7681732256401445"
      ]
     },
     "execution_count": 76,
     "metadata": {},
     "output_type": "execute_result"
    }
   ],
   "source": [
    "f1_score(grid_pred_rf_train, Y_train)"
   ]
  },
  {
   "cell_type": "code",
   "execution_count": 115,
   "metadata": {},
   "outputs": [
    {
     "data": {
      "text/plain": [
       "0.7514982021574111"
      ]
     },
     "execution_count": 115,
     "metadata": {},
     "output_type": "execute_result"
    }
   ],
   "source": [
    "f1_score(grid_pred_rf_test, Y_test)"
   ]
  },
  {
   "cell_type": "code",
   "execution_count": 77,
   "metadata": {},
   "outputs": [
    {
     "name": "stdout",
     "output_type": "stream",
     "text": [
      "f1-score on train set :  0.7681732256401445\n",
      "f1-score on test set :  0.7513524343818875\n"
     ]
    }
   ],
   "source": [
    "# Evaluating the performance using the f1 score\n",
    "print(\"f1-score on train set : \", f1_score(grid_pred_rf_train, Y_train))\n",
    "print(\"f1-score on test set : \", f1_score(grid_pred_rf_test, Y_test))"
   ]
  },
  {
   "cell_type": "code",
   "execution_count": 78,
   "metadata": {},
   "outputs": [
    {
     "name": "stdout",
     "output_type": "stream",
     "text": [
      "              precision    recall  f1-score   support\n",
      "\n",
      "           0       0.99      1.00      0.99     82620\n",
      "           1       0.84      0.68      0.75      2754\n",
      "\n",
      "    accuracy                           0.99     85374\n",
      "   macro avg       0.91      0.84      0.87     85374\n",
      "weighted avg       0.98      0.99      0.98     85374\n",
      "\n"
     ]
    }
   ],
   "source": [
    "print(classification_report(Y_test,gridsearch_rf.best_estimator_.predict(X_test)))"
   ]
  },
  {
   "cell_type": "code",
   "execution_count": 80,
   "metadata": {},
   "outputs": [
    {
     "data": {
      "text/plain": [
       "<AxesSubplot:>"
      ]
     },
     "execution_count": 80,
     "metadata": {},
     "output_type": "execute_result"
    },
    {
     "data": {
      "image/png": "[encoded data removed]",
      "text/plain": [
       "<Figure size 432x288 with 2 Axes>"
      ]
     },
     "metadata": {
      "needs_background": "light"
     },
     "output_type": "display_data"
    }
   ],
   "source": [
    "# Plotting the confusion matrix\n",
    "cm_test = confusion_matrix(Y_test, grid_pred_rf_test)\n",
    "sns.heatmap(cm_test, annot=True)"
   ]
  },
  {
   "cell_type": "markdown",
   "metadata": {},
   "source": []
  },
  {
   "cell_type": "markdown",
   "metadata": {
    "colab_type": "text",
    "id": "6tVVDRABv91O"
   },
   "source": [
    "# Train best classifier on all data and use it to make predictions on X_without_labels\n",
    "**Before making predictions on the file conversion_data_test.csv, let's train our model on ALL the data that was in conversion_data_train.csv. Sometimes, this allows to make tiny improvements in the score because we're using more examples to train the model.**"
   ]
  },
  {
   "cell_type": "code",
   "execution_count": 81,
   "metadata": {},
   "outputs": [],
   "source": [
    "# Preprocessings all data\n",
    "X = preprocessor.fit_transform(X)"
   ]
  },
  {
   "cell_type": "code",
   "execution_count": 82,
   "metadata": {},
   "outputs": [
    {
     "data": {
      "text/html": [
       "<div>\n",
       "<style scoped>\n",
       "    .dataframe tbody tr th:only-of-type {\n",
       "        vertical-align: middle;\n",
       "    }\n",
       "\n",
       "    .dataframe tbody tr th {\n",
       "        vertical-align: top;\n",
       "    }\n",
       "\n",
       "    .dataframe thead th {\n",
       "        text-align: right;\n",
       "    }\n",
       "</style>\n",
       "<table border=\"1\" class=\"dataframe\">\n",
       "  <thead>\n",
       "    <tr style=\"text-align: right;\">\n",
       "      <th></th>\n",
       "      <th>country</th>\n",
       "      <th>age</th>\n",
       "      <th>new_user</th>\n",
       "      <th>source</th>\n",
       "      <th>total_pages_visited</th>\n",
       "    </tr>\n",
       "  </thead>\n",
       "  <tbody>\n",
       "    <tr>\n",
       "      <th>0</th>\n",
       "      <td>UK</td>\n",
       "      <td>28</td>\n",
       "      <td>0</td>\n",
       "      <td>Seo</td>\n",
       "      <td>16</td>\n",
       "    </tr>\n",
       "    <tr>\n",
       "      <th>1</th>\n",
       "      <td>UK</td>\n",
       "      <td>22</td>\n",
       "      <td>1</td>\n",
       "      <td>Direct</td>\n",
       "      <td>5</td>\n",
       "    </tr>\n",
       "    <tr>\n",
       "      <th>2</th>\n",
       "      <td>China</td>\n",
       "      <td>32</td>\n",
       "      <td>1</td>\n",
       "      <td>Seo</td>\n",
       "      <td>1</td>\n",
       "    </tr>\n",
       "    <tr>\n",
       "      <th>3</th>\n",
       "      <td>US</td>\n",
       "      <td>32</td>\n",
       "      <td>1</td>\n",
       "      <td>Ads</td>\n",
       "      <td>6</td>\n",
       "    </tr>\n",
       "    <tr>\n",
       "      <th>4</th>\n",
       "      <td>China</td>\n",
       "      <td>25</td>\n",
       "      <td>0</td>\n",
       "      <td>Seo</td>\n",
       "      <td>3</td>\n",
       "    </tr>\n",
       "  </tbody>\n",
       "</table>\n",
       "</div>"
      ],
      "text/plain": [
       "  country  age  new_user  source  total_pages_visited\n",
       "0      UK   28         0     Seo                   16\n",
       "1      UK   22         1  Direct                    5\n",
       "2   China   32         1     Seo                    1\n",
       "3      US   32         1     Ads                    6\n",
       "4   China   25         0     Seo                    3"
      ]
     },
     "execution_count": 82,
     "metadata": {},
     "output_type": "execute_result"
    }
   ],
   "source": [
    "df_test = pd.read_csv('conversion_data_test.csv')\n",
    "df_test.head()"
   ]
  },
  {
   "cell_type": "code",
   "execution_count": 83,
   "metadata": {},
   "outputs": [],
   "source": [
    "df_test = preprocessor.transform(df_test) #no fit at test"
   ]
  },
  {
   "cell_type": "code",
   "execution_count": 84,
   "metadata": {},
   "outputs": [
    {
     "data": {
      "text/plain": [
       "array([[-0.31018183, -1.47620036,  3.3293794 ,  0.        ,  1.        ,\n",
       "         0.        ,  0.        ,  1.        ],\n",
       "       [-1.03597878,  0.67741482,  0.03792598,  0.        ,  1.        ,\n",
       "         0.        ,  1.        ,  0.        ],\n",
       "       [ 0.1736828 ,  0.67741482, -1.15896618,  0.        ,  0.        ,\n",
       "         0.        ,  0.        ,  1.        ],\n",
       "       [ 0.1736828 ,  0.67741482,  0.33714902,  0.        ,  0.        ,\n",
       "         1.        ,  0.        ,  0.        ],\n",
       "       [-0.67308031, -1.47620036, -0.5605201 ,  0.        ,  0.        ,\n",
       "         0.        ,  0.        ,  1.        ]])"
      ]
     },
     "execution_count": 84,
     "metadata": {},
     "output_type": "execute_result"
    }
   ],
   "source": [
    "df_test[:5]"
   ]
  },
  {
   "cell_type": "code",
   "execution_count": 85,
   "metadata": {},
   "outputs": [
    {
     "data": {
      "text/plain": [
       "{'bootstrap': True,\n",
       " 'max_depth': 90,\n",
       " 'max_features': 'sqrt',\n",
       " 'min_samples_leaf': 30,\n",
       " 'n_estimators': 120}"
      ]
     },
     "execution_count": 85,
     "metadata": {},
     "output_type": "execute_result"
    }
   ],
   "source": [
    "gridsearch_rf.best_params_"
   ]
  },
  {
   "cell_type": "code",
   "execution_count": 86,
   "metadata": {},
   "outputs": [],
   "source": [
    "classifier =  RandomForestClassifier(bootstrap = False, max_depth = 90,\n",
    "             max_features = 'auto',\n",
    "             min_samples_leaf = 30,\n",
    "             n_estimators = 100,\n",
    "             n_jobs = 3) "
   ]
  },
  {
   "cell_type": "code",
   "execution_count": 87,
   "metadata": {},
   "outputs": [
    {
     "data": {
      "text/plain": [
       "RandomForestClassifier(bootstrap=False, max_depth=90, min_samples_leaf=30,\n",
       "                       n_jobs=3)"
      ]
     },
     "execution_count": 87,
     "metadata": {},
     "output_type": "execute_result"
    }
   ],
   "source": [
    "classifier.fit(X, Y) #same Y as before\n",
    "#train to predict Y using X"
   ]
  },
  {
   "cell_type": "code",
   "execution_count": 88,
   "metadata": {},
   "outputs": [],
   "source": [
    "predictions = classifier.predict(df_test)"
   ]
  },
  {
   "cell_type": "code",
   "execution_count": 89,
   "metadata": {},
   "outputs": [
    {
     "name": "stdout",
     "output_type": "stream",
     "text": [
      "random forest : [1 0 0 0 0 0 0 0 0 0 0 0 0 0 0]\n"
     ]
    }
   ],
   "source": [
    "print(\"random forest : {}\".format(predictions[0:15]))"
   ]
  },
  {
   "cell_type": "code",
   "execution_count": 90,
   "metadata": {
    "colab": {},
    "colab_type": "code",
    "id": "7DuWSEHuwEQJ"
   },
   "outputs": [],
   "source": [
    "# Make predictions and dump to file\n",
    "# WARNING : MAKE SURE THE FILE IS A CSV WITH ONE COLUMN NAMED 'converted' AND NO INDEX !\n",
    "# WARNING : FILE NAME MUST HAVE FORMAT 'conversion_data_test_predictions_[name].csv'\n",
    "# where [name] is the name of your team/model separated by a '-'\n",
    "# For example : [name] = AURELIE-model1\n",
    "dataset = {\n",
    "    'converted': predictions \n",
    "}\n",
    "\n",
    "Y_predictions = pd.DataFrame(columns=['converted'], data=dataset)\n",
    "Y_predictions.to_csv('conversion_data_test_predictions_Elena.csv', index=False)\n"
   ]
  },
  {
   "cell_type": "markdown",
   "metadata": {},
   "source": [
    "## Final remarks\n",
    "Here, we can see that the model's generalized performance was improved by using a Ridge regression and tuning the value of the regularization strength. Indeed, without regularization, the $R^2$ typically varies between 0.6 and 0.8, whereas with a regularized model we achieve a test score greater than 0.9 🥳🥳"
   ]
  },
  {
   "cell_type": "code",
   "execution_count": null,
   "metadata": {},
   "outputs": [],
   "source": []
  }
 ],
 "metadata": {
  "colab": {
   "collapsed_sections": [],
   "name": "Projets_template.ipynb",
   "provenance": []
  },
  "kernelspec": {
   "display_name": "Python 3",
   "language": "python",
   "name": "python3"
  },
  "language_info": {
   "codemirror_mode": {
    "name": "ipython",
    "version": 3
   },
   "file_extension": ".py",
   "mimetype": "text/x-python",
   "name": "python",
   "nbconvert_exporter": "python",
   "pygments_lexer": "ipython3",
   "version": "3.8.5"
  }
 },
 "nbformat": 4,
 "nbformat_minor": 4
}
