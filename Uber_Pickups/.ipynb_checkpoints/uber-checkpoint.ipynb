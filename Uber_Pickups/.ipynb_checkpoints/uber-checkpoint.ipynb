{
 "cells": [
  {
   "cell_type": "markdown",
   "metadata": {
    "cell_id": "00019-7269b9c2-9f7c-4363-8f8c-e4b8f1505729",
    "deepnote_cell_type": "markdown",
    "id": "n6FWTrW3wYyD"
   },
   "source": [
    "# Uber Pickups"
   ]
  },
  {
   "cell_type": "code",
   "execution_count": 4,
   "metadata": {},
   "outputs": [
    {
     "name": "stdout",
     "output_type": "stream",
     "text": [
      "Requirement already satisfied: statsmodels in c:\\users\\elena\\anaconda3\\lib\\site-packages (0.12.0)\n",
      "Requirement already satisfied: numpy>=1.15 in c:\\users\\elena\\anaconda3\\lib\\site-packages (from statsmodels) (1.19.2)\n",
      "Requirement already satisfied: scipy>=1.1 in c:\\users\\elena\\anaconda3\\lib\\site-packages (from statsmodels) (1.5.2)\n",
      "Requirement already satisfied: pandas>=0.21 in c:\\users\\elena\\anaconda3\\lib\\site-packages (from statsmodels) (1.1.3)\n",
      "Requirement already satisfied: patsy>=0.5 in c:\\users\\elena\\anaconda3\\lib\\site-packages (from statsmodels) (0.5.1)\n",
      "Requirement already satisfied: python-dateutil>=2.7.3 in c:\\users\\elena\\anaconda3\\lib\\site-packages (from pandas>=0.21->statsmodels) (2.8.1)\n",
      "Requirement already satisfied: pytz>=2017.2 in c:\\users\\elena\\anaconda3\\lib\\site-packages (from pandas>=0.21->statsmodels) (2020.1)\n",
      "Requirement already satisfied: six in c:\\users\\elena\\anaconda3\\lib\\site-packages (from patsy>=0.5->statsmodels) (1.15.0)\n"
     ]
    }
   ],
   "source": [
    "!pip install statsmodels"
   ]
  },
  {
   "cell_type": "code",
   "execution_count": 5,
   "metadata": {
    "cell_id": "00000-3a65771b-ba36-46c9-941f-7fbfaafed227",
    "deepnote_cell_type": "code",
    "deepnote_to_be_reexecuted": false,
    "executionInfo": {
     "elapsed": 1930,
     "status": "ok",
     "timestamp": 1619711341832,
     "user": {
      "displayName": "Maxime Nguyen",
      "photoUrl": "",
      "userId": "14825933827169070890"
     },
     "user_tz": -120
    },
    "execution_millis": 3,
    "execution_start": 1628172240063,
    "id": "UjFM0T5ErKVN",
    "source_hash": "378f2ca4"
   },
   "outputs": [],
   "source": [
    "# Importing libraries\n",
    "import numpy as np\n",
    "import pandas as pd\n",
    "import matplotlib.pyplot as plt\n",
    "import seaborn as sns\n",
    "from statsmodels.distributions.empirical_distribution import ECDF\n",
    "import matplotlib.pyplot as plt\n",
    "import warnings\n",
    "from sklearn.cluster import DBSCAN"
   ]
  },
  {
   "cell_type": "code",
   "execution_count": 6,
   "metadata": {
    "cell_id": "00020-5f1af5e1-6253-41ec-b937-7539b1091396",
    "colab": {
     "base_uri": "https://localhost:8080/",
     "height": 442
    },
    "deepnote_cell_type": "code",
    "deepnote_to_be_reexecuted": false,
    "executionInfo": {
     "elapsed": 459,
     "status": "error",
     "timestamp": 1619706809363,
     "user": {
      "displayName": "Elena Elenoglou",
      "photoUrl": "",
      "userId": "14991067900007319148"
     },
     "user_tz": -120
    },
    "execution_millis": 4128,
    "execution_start": 1628172247424,
    "id": "zxxkfN4ygJ3u",
    "outputId": "60bb9df5-c943-45a9-c542-bfd43d6f42bd",
    "source_hash": "18c30481"
   },
   "outputs": [
    {
     "data": {
      "text/html": [
       "<div>\n",
       "<style scoped>\n",
       "    .dataframe tbody tr th:only-of-type {\n",
       "        vertical-align: middle;\n",
       "    }\n",
       "\n",
       "    .dataframe tbody tr th {\n",
       "        vertical-align: top;\n",
       "    }\n",
       "\n",
       "    .dataframe thead th {\n",
       "        text-align: right;\n",
       "    }\n",
       "</style>\n",
       "<table border=\"1\" class=\"dataframe\">\n",
       "  <thead>\n",
       "    <tr style=\"text-align: right;\">\n",
       "      <th></th>\n",
       "      <th>Date/Time</th>\n",
       "      <th>Lat</th>\n",
       "      <th>Lon</th>\n",
       "      <th>Base</th>\n",
       "    </tr>\n",
       "  </thead>\n",
       "  <tbody>\n",
       "    <tr>\n",
       "      <th>0</th>\n",
       "      <td>4/1/2014 0:11:00</td>\n",
       "      <td>40.7690</td>\n",
       "      <td>-73.9549</td>\n",
       "      <td>B02512</td>\n",
       "    </tr>\n",
       "    <tr>\n",
       "      <th>1</th>\n",
       "      <td>4/1/2014 0:17:00</td>\n",
       "      <td>40.7267</td>\n",
       "      <td>-74.0345</td>\n",
       "      <td>B02512</td>\n",
       "    </tr>\n",
       "    <tr>\n",
       "      <th>2</th>\n",
       "      <td>4/1/2014 0:21:00</td>\n",
       "      <td>40.7316</td>\n",
       "      <td>-73.9873</td>\n",
       "      <td>B02512</td>\n",
       "    </tr>\n",
       "    <tr>\n",
       "      <th>3</th>\n",
       "      <td>4/1/2014 0:28:00</td>\n",
       "      <td>40.7588</td>\n",
       "      <td>-73.9776</td>\n",
       "      <td>B02512</td>\n",
       "    </tr>\n",
       "    <tr>\n",
       "      <th>4</th>\n",
       "      <td>4/1/2014 0:33:00</td>\n",
       "      <td>40.7594</td>\n",
       "      <td>-73.9722</td>\n",
       "      <td>B02512</td>\n",
       "    </tr>\n",
       "  </tbody>\n",
       "</table>\n",
       "</div>"
      ],
      "text/plain": [
       "          Date/Time      Lat      Lon    Base\n",
       "0  4/1/2014 0:11:00  40.7690 -73.9549  B02512\n",
       "1  4/1/2014 0:17:00  40.7267 -74.0345  B02512\n",
       "2  4/1/2014 0:21:00  40.7316 -73.9873  B02512\n",
       "3  4/1/2014 0:28:00  40.7588 -73.9776  B02512\n",
       "4  4/1/2014 0:33:00  40.7594 -73.9722  B02512"
      ]
     },
     "execution_count": 6,
     "metadata": {},
     "output_type": "execute_result"
    }
   ],
   "source": [
    "# Loading dataset\n",
    "\n",
    "apr14 = pd.read_csv('uber-raw-data-apr14.csv')\n",
    "may14 = pd.read_csv('uber-raw-data-may14.csv')\n",
    "jun14 = pd.read_csv('uber-raw-data-jun14.csv')\n",
    "jul14 = pd.read_csv('uber-raw-data-jul14.csv')\n",
    "aug14 = pd.read_csv('uber-raw-data-aug14.csv')\n",
    "sep14 = pd.read_csv('uber-raw-data-sep14.csv')\n",
    "\n",
    "df_14 = pd.concat([apr14, may14,jun14,jul14,aug14,sep14], ignore_index = True)\n",
    "df_14.head()"
   ]
  },
  {
   "cell_type": "code",
   "execution_count": 7,
   "metadata": {
    "cell_id": "00021-f23b5735-dcc3-4a1e-9d36-a34baa70f100",
    "deepnote_cell_type": "code",
    "deepnote_to_be_reexecuted": false,
    "execution_millis": 11,
    "execution_start": 1628172290714,
    "source_hash": "723f3aea",
    "tags": []
   },
   "outputs": [
    {
     "name": "stdout",
     "output_type": "stream",
     "text": [
      "<class 'pandas.core.frame.DataFrame'>\n",
      "RangeIndex: 4534327 entries, 0 to 4534326\n",
      "Data columns (total 4 columns):\n",
      " #   Column     Dtype  \n",
      "---  ------     -----  \n",
      " 0   Date/Time  object \n",
      " 1   Lat        float64\n",
      " 2   Lon        float64\n",
      " 3   Base       object \n",
      "dtypes: float64(2), object(2)\n",
      "memory usage: 138.4+ MB\n"
     ]
    }
   ],
   "source": [
    "# Returning the type data of each column\n",
    "df_14.info()"
   ]
  },
  {
   "cell_type": "code",
   "execution_count": 8,
   "metadata": {
    "cell_id": "00023-1eabc2e0-f501-40d0-b6d7-819285dcb67f",
    "deepnote_cell_type": "code",
    "deepnote_to_be_reexecuted": false,
    "execution_millis": 264,
    "execution_start": 1628172294771,
    "source_hash": "a521eb8d",
    "tags": []
   },
   "outputs": [
    {
     "data": {
      "text/plain": [
       "Date/Time    0.0\n",
       "Lat          0.0\n",
       "Lon          0.0\n",
       "Base         0.0\n",
       "dtype: float64"
      ]
     },
     "metadata": {},
     "output_type": "display_data"
    }
   ],
   "source": [
    "# Returning the percentage of missing values for each column\n",
    "display(100*df_14.isnull().sum()/df_14.shape[0])"
   ]
  },
  {
   "cell_type": "code",
   "execution_count": null,
   "metadata": {
    "cell_id": "00022-3414699a-5ef1-41e7-a9b3-b384e4fda7ae",
    "deepnote_cell_type": "code",
    "deepnote_to_be_reexecuted": false,
    "execution_millis": 28867,
    "execution_start": 1628172296694,
    "id": "3i6OrEnivipU",
    "source_hash": "c6f3e331"
   },
   "outputs": [],
   "source": [
    "# Converting Date/Time column to datetime type and expanding it to seperate columns\n",
    "\n",
    "df_14['Date/Time'] = pd.to_datetime(df_14['Date/Time'])\n",
    "df_14['Date'] = df_14['Date/Time'].dt.date\n",
    "df_14['Month'] = df_14['Date/Time'].dt.month\n",
    "df_14['Week'] = df_14['Date/Time'].dt.week\n",
    "df_14['Time'] = df_14['Date/Time'].dt.hour\n",
    "df_14['Num_Day'] = df_14['Date/Time'].dt.dayofweek \n",
    "\n",
    "#On 'DayofWeekNum': 0 = Monday, 1=Tuesday, ..., 6 = Sunday\n",
    "df_14['Day'] = df_14['Date/Time'].dt.day_name() \n",
    "df_14.head()"
   ]
  },
  {
   "cell_type": "markdown",
   "metadata": {
    "cell_id": "00026-81e7927d-b928-42a9-b8a7-91264bd6c0d7",
    "deepnote_cell_type": "text-cell-h1",
    "is_collapsed": false,
    "tags": []
   },
   "source": [
    "# Exploratory Analysis"
   ]
  },
  {
   "cell_type": "code",
   "execution_count": null,
   "metadata": {
    "cell_id": "00028-7ebd150e-9667-4a22-883d-78fca8021a08",
    "deepnote_cell_type": "code",
    "deepnote_to_be_reexecuted": false,
    "execution_millis": 2008,
    "execution_start": 1628172325560,
    "source_hash": "2f271c99",
    "tags": []
   },
   "outputs": [],
   "source": [
    "# counting rides for each month for all base\n",
    "monthly_rides = df_14['Base'].groupby(df_14['Month']).count() \n",
    "\n",
    "plt.figure(figsize=(10,6))\n",
    "sns.barplot(monthly_rides.index, monthly_rides.values, palette='Set3')\n",
    "\n",
    "plt.title('Trips per month', fontsize=18)\n",
    "plt.ylabel('Total Trips', fontsize=16)\n",
    "plt.xlabel('Month', fontsize=16)\n",
    "#plt.legend(['Base'])\n",
    "plt.show()"
   ]
  },
  {
   "cell_type": "code",
   "execution_count": null,
   "metadata": {
    "cell_id": "00029-f640859a-34f4-4ee0-a0e2-0e370c0594c8",
    "deepnote_cell_type": "code",
    "deepnote_to_be_reexecuted": false,
    "execution_millis": 664,
    "execution_start": 1628172327719,
    "source_hash": "c353d8d",
    "tags": []
   },
   "outputs": [],
   "source": [
    "# counting rides for each week for all base\n",
    "\n",
    "order = ['Monday', 'Tuesday', 'Wednesday', 'Thursday', 'Friday', 'Saturday', 'Sunday']\n",
    "monthly_rides = df_14['Base'].groupby(df_14['Day']).count().reindex(order) \n",
    "\n",
    "plt.figure(figsize=(10,6))\n",
    "sns.barplot(monthly_rides.index, monthly_rides.values, palette='Set3')\n",
    "\n",
    "plt.title('Trips per day of the week', fontsize=18)\n",
    "plt.ylabel('Total Trips', fontsize=16)\n",
    "plt.xlabel('Day of week', fontsize=16)\n",
    "plt.show()"
   ]
  },
  {
   "cell_type": "markdown",
   "metadata": {
    "cell_id": "00031-730f6899-a2e8-46de-80c8-4a19745ec834",
    "deepnote_cell_type": "markdown",
    "tags": []
   },
   "source": [
    "Interestingly, there were more rides on Thursday! Friday closely followed. There were more rides on even Wednesday and Tuesday than on Saturdays, which was not what I expected!"
   ]
  },
  {
   "cell_type": "markdown",
   "metadata": {
    "cell_id": "00032-1707fbf3-a2af-4951-a64b-fba741331ad5",
    "deepnote_cell_type": "markdown",
    "tags": []
   },
   "source": [
    "We will try to visualise the number of rides for the weekdays for each months."
   ]
  },
  {
   "cell_type": "code",
   "execution_count": null,
   "metadata": {
    "cell_id": "00033-e83db33c-154b-478e-a493-34ffced07a92",
    "deepnote_cell_type": "code",
    "deepnote_to_be_reexecuted": false,
    "execution_millis": 798,
    "execution_start": 1628172328418,
    "source_hash": "9114c49f",
    "tags": []
   },
   "outputs": [],
   "source": [
    "daily_rides_month = df_14.groupby(['Month', 'Num_Day','Day'])['Base'].count()\n",
    "daily_rides_month = daily_rides_month.reset_index()\n",
    "daily_rides_month = daily_rides_month.rename(columns = {'Base':'Rides'})\n",
    "\n",
    "daily_rides_month.head(20)"
   ]
  },
  {
   "cell_type": "code",
   "execution_count": null,
   "metadata": {
    "cell_id": "00031-5213aff7-2b8a-455d-bda9-27e091518926",
    "deepnote_cell_type": "code",
    "deepnote_to_be_reexecuted": false,
    "execution_millis": 456,
    "execution_start": 1628172329219,
    "source_hash": "77263fa5",
    "tags": []
   },
   "outputs": [],
   "source": [
    "fig = plt.figure(figsize= (12,6))\n",
    "\n",
    "sns.pointplot(x = 'Day', y = 'Rides', hue = 'Month', data = daily_rides_month, palette='Set2')\n",
    "\n",
    "plt.title('Trips of each weekday per Month', fontsize=18)\n",
    "plt.ylabel('Total Trips', fontsize=16)\n",
    "plt.xlabel('Day of th week', fontsize=16)\n",
    "#plt.legend(['DayOfWeek'])\n",
    "plt.show()\n"
   ]
  },
  {
   "cell_type": "markdown",
   "metadata": {
    "cell_id": "00035-f8bebe66-1b70-4868-8955-050396540f82",
    "deepnote_cell_type": "markdown",
    "tags": []
   },
   "source": [
    "From the plot above, we can see how the number of Uber pickups increasing each month, with Thursday having more pickups. We can also view the total pickups for each day of the individual months and as you can clearly notice, the line graphs all seem to have a similar pattern to some extent throughout the week. Breaking down the data also shows us that only July and August had the highest total number of pickups on Thursdays."
   ]
  },
  {
   "cell_type": "code",
   "execution_count": null,
   "metadata": {
    "cell_id": "00032-8b02cdcb-e750-4b71-ae57-1f2de1aaf8f5",
    "deepnote_cell_type": "code",
    "deepnote_to_be_reexecuted": false,
    "execution_millis": 641,
    "execution_start": 1628172329672,
    "source_hash": "7a88dc4f",
    "tags": []
   },
   "outputs": [],
   "source": [
    "# counting rides for each hour\n",
    "monthly_rides = df_14['Base'].groupby(df_14['Time']).count() \n",
    "\n",
    "plt.figure(figsize=(10,6))\n",
    "sns.barplot(monthly_rides.index, monthly_rides.values, palette='Set3')\n",
    "\n",
    "plt.title('Trips by hour', fontsize=18)\n",
    "plt.ylabel('Total Trips', fontsize=16)\n",
    "plt.xlabel('Hour of the day', fontsize=16)\n",
    "#plt.legend(['Base'])\n",
    "plt.show()"
   ]
  },
  {
   "cell_type": "markdown",
   "metadata": {
    "cell_id": "00037-f02b246b-5e1a-43d6-810f-8a420c47f70e",
    "deepnote_cell_type": "markdown",
    "tags": []
   },
   "source": [
    "Looks like the demand for Uber increases between 6:00 – 8:00 and then again even more from 15:00. Rises until 17:00 and then steadily starts decreasing until late night."
   ]
  },
  {
   "cell_type": "code",
   "execution_count": null,
   "metadata": {
    "cell_id": "00033-71b14161-d556-40fb-998b-802ba8117bf3",
    "deepnote_cell_type": "code",
    "deepnote_to_be_reexecuted": false,
    "execution_millis": 869,
    "execution_start": 1628172330310,
    "source_hash": "cda97c8a",
    "tags": []
   },
   "outputs": [],
   "source": [
    "hourly_rides = df_14.groupby(['Month', 'Num_Day','Day', 'Time'])['Base'].count()\n",
    "hourly_rides = hourly_rides.reset_index()\n",
    "hourly_rides = hourly_rides.rename(columns = {'Base':'Rides'})\n",
    "\n",
    "hourly_rides.head()"
   ]
  },
  {
   "cell_type": "code",
   "execution_count": null,
   "metadata": {
    "cell_id": "00039-cf27fba2-ff82-4a5b-9c65-6f47e85df3ee",
    "deepnote_cell_type": "code",
    "deepnote_to_be_reexecuted": false,
    "execution_millis": 5530,
    "execution_start": 1628172331181,
    "scrolled": false,
    "source_hash": "5afaea3c",
    "tags": []
   },
   "outputs": [],
   "source": [
    "# Seperate hourly dataset per month\n",
    "\n",
    "apr_hourly = hourly_rides[hourly_rides.Month == 4]\n",
    "may_hourly = hourly_rides[hourly_rides.Month == 5]\n",
    "jun_hourly = hourly_rides[hourly_rides.Month == 6]\n",
    "jul_hourly = hourly_rides[hourly_rides.Month == 7]\n",
    "aug_hourly = hourly_rides[hourly_rides.Month == 8]\n",
    "sep_hourly = hourly_rides[hourly_rides.Month == 9]\n",
    "\n",
    "\n",
    "fig, axes = plt.subplots(6, 1, figsize=(15, 35), sharey=True)\n",
    "plt.figure(figsize=(6,6))\n",
    "fig.tight_layout(pad=4.0)\n",
    "\n",
    "# April\n",
    "sns.pointplot(ax=axes[0], x = 'Time', y = 'Rides', hue = 'Day', data = \n",
    "                          apr_hourly, palette='Set2')\n",
    "axes[0].set_title('Total Hourly Trips by day in April', fontsize=15)\n",
    "axes[0].legend(loc='upper left')\n",
    "\n",
    "# May\n",
    "sns.pointplot(ax=axes[1], x = 'Time', y = 'Rides', hue = 'Day', data = \n",
    "                          may_hourly, palette='Set2')\n",
    "axes[1].set_title('Total Hourly Trips by day in May', fontsize=15)\n",
    "\n",
    "\n",
    "# June\n",
    "sns.pointplot(ax=axes[2], x = 'Time', y = 'Rides', hue = 'Day', data = \n",
    "                          jun_hourly, palette='Set2')\n",
    "axes[2].set_title('Total Hourly Trips by day in June', fontsize=15)\n",
    "\n",
    "# Jully\n",
    "sns.pointplot(ax=axes[3], x = 'Time', y = 'Rides', hue = 'Day', data = \n",
    "                          jul_hourly, palette='Set2')\n",
    "axes[3].set_title('Total Hourly Trips by day in Jully', fontsize=15)\n",
    "\n",
    "# August\n",
    "sns.pointplot(ax=axes[4], x = 'Time', y = 'Rides', hue = 'Day', data = \n",
    "                          aug_hourly, palette='Set2')\n",
    "axes[4].set_title('Total Hourly Trips by day in August', fontsize=15)\n",
    "\n",
    "# September\n",
    "sns.pointplot(ax=axes[5], x = 'Time', y = 'Rides', hue = 'Day', data = \n",
    "                          sep_hourly, palette='Set2')\n",
    "axes[5].set_title('Total Hourly Trips by day in September', fontsize=15)\n",
    "axes[5].legend(loc='upper left')\n",
    "\n",
    "plt.show()"
   ]
  },
  {
   "cell_type": "markdown",
   "metadata": {},
   "source": [
    "The month-hour plots follow the same pattern. For the weekdays the higher picks appeared from 6:00 to 9:00 and from 17:00 to 21:00. At the weekends we notice the highest demand from 22:00 to midnight. Later there is a decrease in demand which starts to increase again after 12:00."
   ]
  },
  {
   "cell_type": "code",
   "execution_count": null,
   "metadata": {
    "cell_id": "00025-0c3df203-632d-47a4-91e0-090c22780a0e",
    "deepnote_cell_type": "code",
    "deepnote_to_be_reexecuted": false,
    "execution_millis": 715,
    "execution_start": 1628172341696,
    "source_hash": "b6cfe60f",
    "tags": []
   },
   "outputs": [],
   "source": [
    "# The dataset is quite big : we will create a sample of the dataset before making any visualizations\n",
    "df_14_sample = df_14.sample(4000, random_state=0)"
   ]
  },
  {
   "cell_type": "code",
   "execution_count": null,
   "metadata": {
    "cell_id": "00027-576aba25-ff98-48e1-bd87-b64d9c9eb8f6",
    "deepnote_cell_type": "code",
    "deepnote_to_be_reexecuted": false,
    "execution_millis": 93,
    "execution_start": 1620053701701,
    "source_hash": "884fd062",
    "tags": []
   },
   "outputs": [],
   "source": [
    "plt.figure(figsize = (10,10))\n",
    "ecdf = ECDF(df_14_sample['Time'])\n",
    "plt.plot(ecdf.x, ecdf.y)"
   ]
  },
  {
   "cell_type": "markdown",
   "metadata": {
    "cell_id": "00028-ef41fc4b-9870-4f87-957a-8e17b4db222c",
    "deepnote_cell_type": "markdown",
    "tags": []
   },
   "source": [
    "In the plot above, we see the augmentation of demand of uber based on the time, and we can create 5 groups of time based on similar demand.\n",
    "\n",
    "Early Morning: 00:00 - 06:00<br/>\n",
    "Rush Hour: 07:00 - 10:00<br/>\n",
    "Mid Day: 11:00 - 14:00<br/>\n",
    "Afternood: 15:00 - 18:00<br/>\n",
    "Eveening: 19:00 - 23:00\n",
    "\n"
   ]
  },
  {
   "cell_type": "code",
   "execution_count": null,
   "metadata": {
    "cell_id": "00031-0eb82fc3-63c6-4d3b-be7a-da2b692ac99b",
    "deepnote_cell_type": "code",
    "deepnote_to_be_reexecuted": false,
    "execution_millis": 41,
    "execution_start": 1628172371667,
    "id": "aP7GuHCNxO1H",
    "source_hash": "489082fd"
   },
   "outputs": [],
   "source": [
    "# categorizing time\n",
    "\n",
    "df_14_sample['Time_Categorise'] = df_14_sample['Time'].apply(lambda x: 'early morning' if x <= 6\n",
    "                                                             else 'rush hour' if 6 < x <= 10\n",
    "                                                             else 'mid day' if 10 < x <= 14\n",
    "                                                             else 'afternoon' if 14 < x <= 18\n",
    "                                                             else 'evening')\n",
    "df_14_sample.head()"
   ]
  },
  {
   "cell_type": "code",
   "execution_count": null,
   "metadata": {
    "cell_id": "00032-2f6c56e3-bef5-443a-8d75-dee575dce37d",
    "deepnote_cell_type": "code",
    "deepnote_to_be_reexecuted": false,
    "execution_millis": 21,
    "execution_start": 1628172405909,
    "source_hash": "4b0fcb41",
    "tags": []
   },
   "outputs": [],
   "source": [
    "# Removing Date and Time column\n",
    "df_14_sample = df_14_sample.drop(['Date/Time', 'Base'], axis = 1)"
   ]
  },
  {
   "cell_type": "code",
   "execution_count": null,
   "metadata": {
    "cell_id": "00034-159d5c50-024f-4fc5-8b5c-a6e83102b755",
    "deepnote_cell_type": "code",
    "deepnote_to_be_reexecuted": false,
    "execution_millis": 38,
    "execution_start": 1628172409788,
    "source_hash": "6e90358b",
    "tags": []
   },
   "outputs": [],
   "source": [
    "# Returning the 5 first rows\n",
    "df_14_sample.head()"
   ]
  },
  {
   "cell_type": "code",
   "execution_count": null,
   "metadata": {
    "cell_id": "00035-9667b244-2d28-4bcc-9110-3ddfac861c84",
    "deepnote_cell_type": "code",
    "deepnote_to_be_reexecuted": false,
    "execution_millis": 7,
    "execution_start": 1628172418325,
    "source_hash": "5f140c37",
    "tags": []
   },
   "outputs": [],
   "source": [
    "# Returning the type of the features\n",
    "df_14_sample.dtypes"
   ]
  },
  {
   "cell_type": "code",
   "execution_count": null,
   "metadata": {
    "cell_id": "00036-eb1744a8-ce28-4064-a5e3-960310111236",
    "deepnote_cell_type": "code",
    "deepnote_to_be_reexecuted": false,
    "execution_millis": 41,
    "execution_start": 1628172530178,
    "source_hash": "43c4792c",
    "tags": []
   },
   "outputs": [],
   "source": [
    "# Adding day of the week column\n",
    "df_14_sample['Date'] = pd.to_datetime(df_14_sample['Date'])\n",
    "df_14_sample['day_of_week']= df_14_sample['Date'].dt.weekday\n",
    "df_14_sample.head()"
   ]
  },
  {
   "cell_type": "code",
   "execution_count": null,
   "metadata": {
    "cell_id": "00039-48624e3b-48d1-4973-9535-0b0954719df4",
    "deepnote_cell_type": "code",
    "deepnote_to_be_reexecuted": false,
    "execution_millis": 11,
    "execution_start": 1628172558353,
    "source_hash": "50b9fb26",
    "tags": []
   },
   "outputs": [],
   "source": [
    "# Seperating dataset based on the day of the week\n",
    "\n",
    "df_mon = df_14_sample[df_14_sample['day_of_week']== 0]\n",
    "df_tue = df_14_sample[df_14_sample['day_of_week'] == 1]\n",
    "df_wes = df_14_sample[df_14_sample['day_of_week'] == 2]\n",
    "df_thu = df_14_sample[df_14_sample['day_of_week'] == 3]\n",
    "df_fri = df_14_sample[df_14_sample['day_of_week'] == 4]\n",
    "df_sat = df_14_sample[df_14_sample['day_of_week'] == 5]\n",
    "df_sun = df_14_sample[df_14_sample['day_of_week'] == 6]"
   ]
  },
  {
   "cell_type": "markdown",
   "metadata": {},
   "source": [
    "# Model"
   ]
  },
  {
   "cell_type": "markdown",
   "metadata": {
    "cell_id": "00046-8454108b-ebbb-4777-a64b-fa14dcd6d07c",
    "deepnote_cell_type": "markdown",
    "tags": []
   },
   "source": [
    "### Best spot by week days"
   ]
  },
  {
   "cell_type": "code",
   "execution_count": null,
   "metadata": {
    "cell_id": "00047-a2bb3f1a-f295-4eae-8b88-ad7ef07f9d13",
    "deepnote_cell_type": "code",
    "deepnote_to_be_reexecuted": false,
    "execution_millis": 44,
    "execution_start": 1628172634846,
    "source_hash": "5faa4014",
    "tags": []
   },
   "outputs": [],
   "source": [
    "# Decomposing date field\n",
    "#df_14_sample['Date'] = pd.to_datetime(df_14_sample['Date'])\n",
    "\n",
    "df_14_sample['day'] = df_14_sample['Date'].dt.day\n",
    "df_14_sample['month'] = df_14_sample['Date'].dt.month\n",
    "df_14_sample['hour'] = df_14_sample['Date'].dt.hour\n",
    "df_14_sample['minute'] = df_14_sample['Date'].dt.minute\n",
    "df_14_sample['weekday'] = df_14_sample['Date'].dt.dayofweek.astype(str)\n",
    "\n",
    "day_map = ['Monday','Tuesday','Wednesday','Thursday','Friday','Saturday', 'Sunday']\n",
    "df_14_sample['weekday_label'] = df_14_sample['weekday'].apply(lambda x: day_map[int(x)])\n",
    "df_14_sample.head()"
   ]
  },
  {
   "cell_type": "code",
   "execution_count": null,
   "metadata": {
    "cell_id": "00048-4ef51106-c45a-4141-804e-340709a38c7e",
    "deepnote_cell_type": "code",
    "deepnote_to_be_reexecuted": false,
    "execution_millis": 1005,
    "execution_start": 1628172637427,
    "source_hash": "536a39d6",
    "tags": []
   },
   "outputs": [],
   "source": [
    "def calculate_dbscan_day(day):\n",
    "    print('Calculating DBSCAN for day', day)\n",
    "    epsilon = 0.01\n",
    "    nb_of_rides = 50\n",
    "    sample = df_14_sample.loc[df_14_sample.weekday == str(day)]\n",
    "    db = DBSCAN(eps=epsilon, min_samples=nb_of_rides, algorithm='ball_tree', metric=\"euclidean\", n_jobs=8)\n",
    "    db.fit(sample[['Lat', 'Lon']])\n",
    "    sample['cluster'] = db.labels_.astype(str)\n",
    "    return sample"
   ]
  },
  {
   "cell_type": "code",
   "execution_count": null,
   "metadata": {
    "cell_id": "00049-5f043e39-8653-4236-ab7f-9a74531d6277",
    "deepnote_cell_type": "code",
    "deepnote_to_be_reexecuted": false,
    "execution_millis": 792,
    "execution_start": 1628172640828,
    "source_hash": "c71d000a",
    "tags": []
   },
   "outputs": [],
   "source": [
    "%%time\n",
    "warnings.filterwarnings('ignore')\n",
    "\n",
    "monday = calculate_dbscan_day(0)\n",
    "tuesday = calculate_dbscan_day(1)\n",
    "wednesday = calculate_dbscan_day(2)\n",
    "thursday = calculate_dbscan_day(3)\n",
    "friday = calculate_dbscan_day(4)\n",
    "saturday = calculate_dbscan_day(5)\n",
    "sunday = calculate_dbscan_day(6)\n",
    "\n",
    "by_weekday = pd.concat([monday, tuesday, wednesday, thursday, friday, saturday, sunday])\n",
    "clustered_data = by_weekday[by_weekday.cluster != '-1']"
   ]
  },
  {
   "cell_type": "code",
   "execution_count": null,
   "metadata": {
    "cell_id": "00050-253e5f50-8724-48d5-b7b3-1193a7995350",
    "deepnote_cell_type": "code",
    "deepnote_to_be_reexecuted": false,
    "execution_millis": 11,
    "execution_start": 1628172643487,
    "source_hash": "cbe91212",
    "tags": []
   },
   "outputs": [],
   "source": [
    "clustered_data.shape"
   ]
  },
  {
   "cell_type": "code",
   "execution_count": null,
   "metadata": {
    "cell_id": "00050-0904dd83-2ca9-4fdd-9d6c-cbb4fab7802f",
    "deepnote_cell_type": "code",
    "deepnote_to_be_reexecuted": false,
    "execution_millis": 2765,
    "execution_start": 1628172686414,
    "source_hash": "49900df7",
    "tags": []
   },
   "outputs": [],
   "source": [
    "import plotly.express as px\n",
    "\n",
    "clustered_data = by_weekday[by_weekday.cluster != '-1']\n",
    "fig = px.density_mapbox(\n",
    "    clustered_data,\n",
    "    title=\"Best spots by week day\",\n",
    "    lat=\"Lat\", \n",
    "    lon=\"Lon\",\n",
    "    radius=5,\n",
    "    mapbox_style=\"carto-positron\",\n",
    "    animation_frame=\"weekday_label\",\n",
    "    height=800\n",
    ")\n",
    "fig.show()"
   ]
  }
 ],
 "metadata": {
  "colab": {
   "collapsed_sections": [],
   "name": "Uber_Trips.ipynb",
   "provenance": [],
   "toc_visible": true
  },
  "deepnote": {},
  "deepnote_execution_queue": [],
  "deepnote_notebook_id": "d2a77f15-77a0-44da-92f9-8dc35f2eeae3",
  "kernelspec": {
   "display_name": "Python 3",
   "language": "python",
   "name": "python3"
  },
  "language_info": {
   "codemirror_mode": {
    "name": "ipython",
    "version": 3
   },
   "file_extension": ".py",
   "mimetype": "text/x-python",
   "name": "python",
   "nbconvert_exporter": "python",
   "pygments_lexer": "ipython3",
   "version": "3.8.5"
  }
 },
 "nbformat": 4,
 "nbformat_minor": 1
}
